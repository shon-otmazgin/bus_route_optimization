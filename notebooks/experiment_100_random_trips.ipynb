{
 "cells": [
  {
   "cell_type": "code",
   "execution_count": 23,
   "metadata": {},
   "outputs": [],
   "source": [
    "import matplotlib.pyplot as plt\n",
    "import pandas as pd\n",
    "import numpy as np\n",
    "import sys\n",
    "sys.path.append(\"..\") # Adds higher directory to our route_optimization.\n",
    "from route_optimization.route_optimization_handler import RouteOptimizationHandler"
   ]
  },
  {
   "cell_type": "markdown",
   "metadata": {},
   "source": [
    "Load the dataset"
   ]
  },
  {
   "cell_type": "code",
   "execution_count": 2,
   "metadata": {},
   "outputs": [],
   "source": [
    "routes_df = pd.read_csv('../dataset/service_trips.csv', index_col=0)\n",
    "np.random.seed(42)\n",
    "routes_df = routes_df.sample(n=100)"
   ]
  },
  {
   "cell_type": "markdown",
   "metadata": {},
   "source": [
    "Create route_optimizer object "
   ]
  },
  {
   "cell_type": "code",
   "execution_count": 3,
   "metadata": {},
   "outputs": [],
   "source": [
    "RESTRICTED_TIME = 480\n",
    "DEADHEAD = 15\n",
    "route_optimizer = RouteOptimizationHandler(routes_df=routes_df, restricted_time=RESTRICTED_TIME)"
   ]
  },
  {
   "cell_type": "markdown",
   "metadata": {},
   "source": [
    "Fit the object - generate S and P matrices"
   ]
  },
  {
   "cell_type": "code",
   "execution_count": 4,
   "metadata": {},
   "outputs": [
    {
     "name": "stdout",
     "output_type": "stream",
     "text": [
      "Wall time: 7.12 s\n"
     ]
    }
   ],
   "source": [
    "%%time\n",
    "route_optimizer.fit()\n",
    "S = route_optimizer.get_neighbors_matrix()\n",
    "P = route_optimizer.get_penalty_matrix()"
   ]
  },
  {
   "cell_type": "markdown",
   "metadata": {},
   "source": [
    "### Generate random schedule"
   ]
  },
  {
   "cell_type": "code",
   "execution_count": 5,
   "metadata": {},
   "outputs": [
    {
     "name": "stdout",
     "output_type": "stream",
     "text": [
      "Wall time: 7.19 s\n"
     ]
    }
   ],
   "source": [
    "%%time\n",
    "s_random = route_optimizer.get_random_schedule()"
   ]
  },
  {
   "cell_type": "code",
   "execution_count": 6,
   "metadata": {},
   "outputs": [
    {
     "name": "stdout",
     "output_type": "stream",
     "text": [
      "---Random Schedule---\n",
      "Valid Schedule: True\n",
      "OpEx: 1215\n",
      "Deadheads: 81.0\n",
      "Num of Vehicles: 31\n"
     ]
    }
   ],
   "source": [
    "print('---Random Schedule---')\n",
    "print(f'Valid Schedule: {route_optimizer._valid_schedule(schedule=s_random)}')\n",
    "print('OpEx:', route_optimizer.get_schedule_OpEx(s_random))\n",
    "print('Deadheads:', route_optimizer.get_schedule_OpEx(s_random) / DEADHEAD)\n",
    "print('Num of Vehicles:', len(s_random))"
   ]
  },
  {
   "cell_type": "markdown",
   "metadata": {},
   "source": [
    "### Generate schedule using Beam Search"
   ]
  },
  {
   "cell_type": "markdown",
   "metadata": {},
   "source": [
    "Clearing the covered trips for creating new schedule"
   ]
  },
  {
   "cell_type": "code",
   "execution_count": 7,
   "metadata": {},
   "outputs": [],
   "source": [
    "route_optimizer.reset_C()"
   ]
  },
  {
   "cell_type": "markdown",
   "metadata": {},
   "source": [
    "Setting $\\beta$ = 10"
   ]
  },
  {
   "cell_type": "code",
   "execution_count": 8,
   "metadata": {},
   "outputs": [],
   "source": [
    "beta = 10"
   ]
  },
  {
   "cell_type": "code",
   "execution_count": 9,
   "metadata": {
    "scrolled": true
   },
   "outputs": [
    {
     "name": "stdout",
     "output_type": "stream",
     "text": [
      "New Vehicle created len of 10 Took 52.58s\n",
      "Covered 10.000% of the trips...\n",
      "vehicle deadheads 0.0...\n",
      "vehicle duration 480...\n",
      "Num of vehicles 1...\n",
      "\n",
      "New Vehicle created len of 7 Took 36.37s\n",
      "Covered 17.000% of the trips...\n",
      "vehicle deadheads 0.0...\n",
      "vehicle duration 450...\n",
      "Num of vehicles 2...\n",
      "\n",
      "New Vehicle created len of 7 Took 22.11s\n",
      "Covered 24.000% of the trips...\n",
      "vehicle deadheads 0.0...\n",
      "vehicle duration 480...\n",
      "Num of vehicles 3...\n",
      "\n",
      "New Vehicle created len of 7 Took 23.40s\n",
      "Covered 31.000% of the trips...\n",
      "vehicle deadheads 0.0...\n",
      "vehicle duration 450...\n",
      "Num of vehicles 4...\n",
      "\n",
      "New Vehicle created len of 7 Took 14.78s\n",
      "Covered 38.000% of the trips...\n",
      "vehicle deadheads 0.0...\n",
      "vehicle duration 450...\n",
      "Num of vehicles 5...\n",
      "\n",
      "New Vehicle created len of 6 Took 16.20s\n",
      "Covered 44.000% of the trips...\n",
      "vehicle deadheads 0.0...\n",
      "vehicle duration 450...\n",
      "Num of vehicles 6...\n",
      "\n",
      "New Vehicle created len of 7 Took 9.99s\n",
      "Covered 51.000% of the trips...\n",
      "vehicle deadheads 0.0...\n",
      "vehicle duration 450...\n",
      "Num of vehicles 7...\n",
      "\n",
      "New Vehicle created len of 6 Took 8.54s\n",
      "Covered 57.000% of the trips...\n",
      "vehicle deadheads 0.0...\n",
      "vehicle duration 210...\n",
      "Num of vehicles 8...\n",
      "\n",
      "New Vehicle created len of 6 Took 4.60s\n",
      "Covered 63.000% of the trips...\n",
      "vehicle deadheads 1.0...\n",
      "vehicle duration 285...\n",
      "Num of vehicles 9...\n",
      "\n",
      "New Vehicle created len of 4 Took 3.45s\n",
      "Covered 67.000% of the trips...\n",
      "vehicle deadheads 0.0...\n",
      "vehicle duration 450...\n",
      "Num of vehicles 10...\n",
      "\n",
      "New Vehicle created len of 4 Took 3.20s\n",
      "Covered 71.000% of the trips...\n",
      "vehicle deadheads 0.0...\n",
      "vehicle duration 270...\n",
      "Num of vehicles 11...\n",
      "\n",
      "New Vehicle created len of 3 Took 3.84s\n",
      "Covered 74.000% of the trips...\n",
      "vehicle deadheads 0.0...\n",
      "vehicle duration 210...\n",
      "Num of vehicles 12...\n",
      "\n",
      "New Vehicle created len of 3 Took 3.36s\n",
      "Covered 77.000% of the trips...\n",
      "vehicle deadheads 0.0...\n",
      "vehicle duration 480...\n",
      "Num of vehicles 13...\n",
      "\n",
      "New Vehicle created len of 3 Took 2.07s\n",
      "Covered 80.000% of the trips...\n",
      "vehicle deadheads 1.0...\n",
      "vehicle duration 225...\n",
      "Num of vehicles 14...\n",
      "\n",
      "New Vehicle created len of 3 Took 1.29s\n",
      "Covered 83.000% of the trips...\n",
      "vehicle deadheads 1.0...\n",
      "vehicle duration 225...\n",
      "Num of vehicles 15...\n",
      "\n",
      "New Vehicle created len of 4 Took 1.51s\n",
      "Covered 87.000% of the trips...\n",
      "vehicle deadheads 2.0...\n",
      "vehicle duration 360...\n",
      "Num of vehicles 16...\n",
      "\n",
      "New Vehicle created len of 2 Took 0.55s\n",
      "Covered 89.000% of the trips...\n",
      "vehicle deadheads 0.0...\n",
      "vehicle duration 210...\n",
      "Num of vehicles 17...\n",
      "\n",
      "New Vehicle created len of 3 Took 0.41s\n",
      "Covered 92.000% of the trips...\n",
      "vehicle deadheads 1.0...\n",
      "vehicle duration 375...\n",
      "Num of vehicles 18...\n",
      "\n",
      "New Vehicle created len of 2 Took 0.23s\n",
      "Covered 94.000% of the trips...\n",
      "vehicle deadheads 0.0...\n",
      "vehicle duration 330...\n",
      "Num of vehicles 19...\n",
      "\n",
      "New Vehicle created len of 2 Took 0.28s\n",
      "Covered 96.000% of the trips...\n",
      "vehicle deadheads 1.0...\n",
      "vehicle duration 255...\n",
      "Num of vehicles 20...\n",
      "\n",
      "New Vehicle created len of 1 Took 0.14s\n",
      "Covered 97.000% of the trips...\n",
      "vehicle deadheads 0.0...\n",
      "vehicle duration 180...\n",
      "Num of vehicles 21...\n",
      "\n",
      "New Vehicle created len of 3 Took 0.08s\n",
      "Covered 100.000% of the trips...\n",
      "vehicle deadheads 2.0...\n",
      "vehicle duration 270...\n",
      "Num of vehicles 22...\n",
      "\n",
      "Wall time: 3min 29s\n"
     ]
    }
   ],
   "source": [
    "%%time\n",
    "s = route_optimizer.get_schedule(k=beta)"
   ]
  },
  {
   "cell_type": "code",
   "execution_count": 10,
   "metadata": {},
   "outputs": [
    {
     "name": "stdout",
     "output_type": "stream",
     "text": [
      "---Beam Search Schedule---\n",
      "Valid Schedule: True\n",
      "OpEx: 795\n",
      "Deadheads: 53.0\n",
      "Num of Vehicles: 22\n"
     ]
    }
   ],
   "source": [
    "print('---Beam Search Schedule---')\n",
    "print(f'Valid Schedule: {route_optimizer._valid_schedule(schedule=s)}')\n",
    "print('OpEx:', route_optimizer.get_schedule_OpEx(schedule=s))\n",
    "print('Deadheads:', route_optimizer.get_schedule_OpEx(schedule=s) / DEADHEAD)\n",
    "print('Num of Vehicles:', len(s))"
   ]
  },
  {
   "cell_type": "markdown",
   "metadata": {},
   "source": [
    "### post hoc"
   ]
  },
  {
   "cell_type": "code",
   "execution_count": 48,
   "metadata": {},
   "outputs": [],
   "source": [
    "schedules_by_iterations = {0: [[i] for i in routes_df.index]}\n",
    "for idx,v in enumerate(s):\n",
    "    last_s = schedules_by_iterations[idx].copy()\n",
    "    [last_s.remove([trip]) for trip in v]\n",
    "    last_s.append(v)\n",
    "    schedules_by_iterations[idx+1] = last_s\n",
    "    \n",
    "random_schedules_by_iterations = {0: [[i] for i in routes_df.index]}\n",
    "for idx,v in enumerate(s_random):\n",
    "    last_s = random_schedules_by_iterations[idx].copy()\n",
    "    [last_s.remove([trip]) for trip in v]\n",
    "    last_s.append(v)\n",
    "    random_schedules_by_iterations[idx+1] = last_s"
   ]
  },
  {
   "cell_type": "code",
   "execution_count": 111,
   "metadata": {},
   "outputs": [],
   "source": [
    "def f(x, factor=1):\n",
    "    return factor/(x)\n",
    "fx_name = r'$f(x)=\\frac{1}{x}$'"
   ]
  },
  {
   "cell_type": "code",
   "execution_count": 112,
   "metadata": {},
   "outputs": [
    {
     "data": {
      "image/png": "[encoded data removed]",
      "text/plain": [
       "<Figure size 576x432 with 1 Axes>"
      ]
     },
     "metadata": {
      "needs_background": "light"
     },
     "output_type": "display_data"
    }
   ],
   "source": [
    "plt.figure(figsize=(8, 6))\n",
    "\n",
    "x = list(schedules_by_iterations.keys())\n",
    "y = [route_optimizer.get_schedule_OpEx(schedule=s) for s in schedules_by_iterations.values()]\n",
    "x_random = list(random_schedules_by_iterations.keys())\n",
    "y_random = [route_optimizer.get_schedule_OpEx(schedule=s) for s in random_schedules_by_iterations.values()]\n",
    "plt.plot(x, y, label=r'Beam Search')\n",
    "plt.plot(x_random, y_random, label=r'Random')\n",
    "\n",
    "# using 101 steps results in in array including the value 0\n",
    "factor_x=np.linspace(1,max(len(x), len(x_random)))\n",
    "# f(0) = nan -> a nan value creates a gap\n",
    "factor_y=f(factor_x, factor=len(route_optimizer.get_N())*2*DEADHEAD)\n",
    "plt.plot(factor_x, factor_y, label=fx_name)\n",
    "\n",
    "plt.legend(loc='upper right')\n",
    "plt.ylabel('OpEx (#Deadheads * 15)')\n",
    "plt.xlabel('Iteration')\n",
    "plt.xticks(range(0,max(len(x), len(x_random))+5,5))\n",
    "plt.yticks(np.arange(0, max(y)+500, step=500))\n",
    "plt.title('OpEx by iterations')\n",
    "\n",
    "plt.savefig('opex')\n",
    "plt.show()"
   ]
  },
  {
   "cell_type": "code",
   "execution_count": 92,
   "metadata": {},
   "outputs": [
    {
     "data": {
      "image/png": "[encoded data removed]",
      "text/plain": [
       "<Figure size 1080x360 with 2 Axes>"
      ]
     },
     "metadata": {
      "needs_background": "light"
     },
     "output_type": "display_data"
    }
   ],
   "source": [
    "plt.figure(figsize=(15, 5))\n",
    "\n",
    "x = range(len(s))\n",
    "y = [route_optimizer._get_vehicle_duration(vehicle=v) for v in s]\n",
    "plt.subplot(121)\n",
    "plt.plot(x, y, label=r'Beam Search')\n",
    "\n",
    "plt.annotate('first vehicle\\nduration under 400',\n",
    "            xy=(7, y[7]), xycoords='data',\n",
    "            xytext=(-80, -60), textcoords='offset points',\n",
    "            arrowprops=dict(arrowstyle=\"->\",\n",
    "                            connectionstyle=\"angle3,angleA=0,angleB=-90\"))\n",
    "\n",
    "plt.legend(loc='lower right')\n",
    "plt.ylabel('Vehicels')\n",
    "plt.xlabel('Iteration')\n",
    "plt.xticks(np.arange(0, len(x), step=4))\n",
    "plt.yticks(np.arange(0, RESTRICTED_TIME+40, step=40))\n",
    "plt.title('Vehicel duration by iterations')\n",
    "\n",
    "x = range(len(s))\n",
    "y = [100*(len(v) / len(route_optimizer.get_N())) for v in s]\n",
    "cumulative_y = np.cumsum(y)\n",
    "plt.subplot(122)\n",
    "plt.plot(x, cumulative_y, label=r'Beam Search')\n",
    "\n",
    "plt.annotate(f'{cumulative_y[56]:0.2f}%',\n",
    "            xy=(7,cumulative_y[7]), xycoords='data',\n",
    "            xytext=(-60, -80), textcoords='offset points',\n",
    "            arrowprops=dict(arrowstyle=\"->\",\n",
    "                            connectionstyle=\"angle,angleA=-180,angleB=90,rad=10\"))\n",
    "\n",
    "\n",
    "plt.legend(loc='lower right')\n",
    "plt.ylabel('% coverd')\n",
    "plt.xlabel('Iteration')\n",
    "plt.xticks(np.arange(0, len(x), step=4))\n",
    "plt.yticks(np.arange(0, 110, step=10))\n",
    "plt.title('Covered trips by iterations')\n",
    "\n",
    "\n",
    "plt.show()"
   ]
  },
  {
   "cell_type": "code",
   "execution_count": null,
   "metadata": {},
   "outputs": [],
   "source": []
  }
 ],
 "metadata": {
  "kernelspec": {
   "display_name": "Python 3",
   "language": "python",
   "name": "python3"
  },
  "language_info": {
   "codemirror_mode": {
    "name": "ipython",
    "version": 3
   },
   "file_extension": ".py",
   "mimetype": "text/x-python",
   "name": "python",
   "nbconvert_exporter": "python",
   "pygments_lexer": "ipython3",
   "version": "3.7.4"
  }
 },
 "nbformat": 4,
 "nbformat_minor": 4
}
