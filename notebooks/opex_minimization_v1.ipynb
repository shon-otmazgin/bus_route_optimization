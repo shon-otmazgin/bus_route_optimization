{
 "cells": [
  {
   "cell_type": "code",
   "execution_count": 441,
   "metadata": {},
   "outputs": [],
   "source": [
    "import pandas as pd\n",
    "import math"
   ]
  },
  {
   "cell_type": "code",
   "execution_count": 1319,
   "metadata": {},
   "outputs": [],
   "source": [
    "DEADHEAD = 15\n",
    "MAX_DRIVING_TIME = 480\n",
    "ORIGIN = 'Origin'\n",
    "DESTINATION = 'Destination'\n",
    "DEPARTURE = 'Departure'\n",
    "ARRIVAL = 'Arrival'"
   ]
  },
  {
   "cell_type": "code",
   "execution_count": 1320,
   "metadata": {},
   "outputs": [],
   "source": [
    "file = 'service_trips.csv'\n",
    "trips_df = pd.read_csv(file,index_col=0)"
   ]
  },
  {
   "cell_type": "code",
   "execution_count": 1328,
   "metadata": {},
   "outputs": [],
   "source": [
    "def clac_dfs(ids):   \n",
    "    for i in ids:\n",
    "        for j in ids:\n",
    "            valid_pair(i,j)"
   ]
  },
  {
   "cell_type": "code",
   "execution_count": 1322,
   "metadata": {},
   "outputs": [],
   "source": [
    "def select_last_route(ids):\n",
    "    if not ids:\n",
    "        return None\n",
    "   \n",
    "    r_df = routing_df.loc[ids]\n",
    "    t_df = trips_df.loc[ids]\n",
    "    \n",
    "    last_routes = r_df.loc[ (r_df[r_df.columns] == False).all(axis=1) ].index.tolist()\n",
    "    if last_routes:\n",
    "        return last_routes[0]\n",
    "    return t_df[DEPARTURE].idxmax()\n",
    "    ## here need to decide what to do when there are 2+ all False rows."
   ]
  },
  {
   "cell_type": "code",
   "execution_count": 1407,
   "metadata": {},
   "outputs": [],
   "source": [
    "def get_best_next_route(routes, last_route):\n",
    "    deadheads = deadhead_df.loc[routes][last_route]\n",
    "    min_deadhead = min(deadheads)\n",
    "    candidates = deadheads[deadheads == min_deadhead].index.tolist()\n",
    "    return trips_df.loc[candidates][DEPARTURE].idxmax()\n",
    "#     return deadheads.idxmin()"
   ]
  },
  {
   "cell_type": "code",
   "execution_count": 1408,
   "metadata": {},
   "outputs": [],
   "source": [
    "def get_candidates(routes, last_route):\n",
    "    deadheads = deadhead_df.loc[routes][last_route]\n",
    "    min_deadhead = min(deadheads)\n",
    "    candidates = deadheads[deadheads == min_deadhead].index.tolist()\n",
    "    return candidates\n",
    "#     return trips_df.loc[candidates][DEPARTURE].idxmax()\n",
    "#     return deadheads.idxmin()"
   ]
  },
  {
   "cell_type": "code",
   "execution_count": 1416,
   "metadata": {},
   "outputs": [],
   "source": [
    "def get_best_from_candidates(vehicle, candidates):\n",
    "    final_candidates = []\n",
    "    for c in candidates:\n",
    "        temp_vehicle = vehicle.copy()\n",
    "        temp_vehicle.insert(0, c)\n",
    "        if restricted_legal_vehicle(temp_vehicle):\n",
    "            final_candidates.append(c)\n",
    "    if not final_candidates:\n",
    "        return None\n",
    "    return trips_df.loc[final_candidates][DEPARTURE].idxmax()"
   ]
  },
  {
   "cell_type": "code",
   "execution_count": 1431,
   "metadata": {
    "scrolled": false
   },
   "outputs": [
    {
     "name": "stderr",
     "output_type": "stream",
     "text": [
      "C:\\Users\\sotmazgi\\AppData\\Local\\Continuum\\anaconda3\\lib\\site-packages\\ipykernel_launcher.py:25: UserWarning: Boolean Series key will be reindexed to match DataFrame index.\n"
     ]
    },
    {
     "name": "stdout",
     "output_type": "stream",
     "text": [
      "Wall time: 1h 5min 7s\n"
     ]
    }
   ],
   "source": [
    "%%time\n",
    "# random_exaple = trips_df.sample(n=50)\n",
    "# ids = random_exaple.index.tolist()\n",
    "# ids = [65, 78, 299, 306, 413]\n",
    "# ids = [319, 67, 28, 256, 180, 159, 327, 476, 387, 383]\n",
    "# ids = [1,27,28, 100]\n",
    "# ids = [1,27,28]\n",
    "ids = trips_df.index.tolist()\n",
    "\n",
    "deadhead_df = pd.DataFrame(index=ids,columns=ids)\n",
    "# drivingdf = pd.DataFrame(index=ids,columns=ids,data=np.zeros())\n",
    "routing_df = pd.DataFrame(index=ids,columns=ids)\n",
    "ids_copy = ids.copy()\n",
    "\n",
    "clac_dfs(ids=ids)\n",
    "last_route = select_last_route(ids=ids)\n",
    "vehicle = []\n",
    "daily_schedule = []\n",
    "\n",
    "while last_route:\n",
    "    vehicle.insert(0, last_route)\n",
    "#     print('-----------')\n",
    "#     print(last_route)\n",
    "    ids.remove(last_route)\n",
    "\n",
    "    routes = routing_df.loc[ids][routing_df[last_route] == True].index.tolist()\n",
    "#     print(routes)\n",
    "    if routes:\n",
    "        candidates = get_candidates(routes=routes, last_route=last_route)\n",
    "#         print(candidates)\n",
    "        next_route = get_best_from_candidates(vehicle=vehicle, candidates=candidates)\n",
    "#         print(next_route)\n",
    "#         next_route = get_best_next_route(routes=routes, last_route=last_route)            \n",
    "    if not routes or not next_route:\n",
    "        daily_schedule.append(vehicle)\n",
    "        vehicle = []\n",
    "        next_route = select_last_route(ids=ids)\n",
    "\n",
    "    last_route = next_route"
   ]
  },
  {
   "cell_type": "code",
   "execution_count": 1436,
   "metadata": {},
   "outputs": [
    {
     "name": "stdout",
     "output_type": "stream",
     "text": [
      "daily_schedule -> True\n",
      "vehicles: 89\n",
      "opex: 2730\n",
      "deadheads: 182.0\n",
      "-----vehicle_driving-----\n"
     ]
    }
   ],
   "source": [
    "# my answer\n",
    "print(f'daily_schedule -> {valid_daily_schedule(daily_schedule)}')\n",
    "# print(daily_schedule)\n",
    "print(f'vehicles: {len(daily_schedule)}')\n",
    "print(f'opex: {get_opex(daily_schedule)}')\n",
    "print(f'deadheads: {get_opex(daily_schedule)/15}')\n",
    "print('-----vehicle_driving-----')\n",
    "for v in daily_schedule:\n",
    "    if get_vehicle_driving_time(v) > MAX_DRIVING_TIME:\n",
    "        print(v)"
   ]
  },
  {
   "cell_type": "code",
   "execution_count": 1433,
   "metadata": {},
   "outputs": [
    {
     "data": {
      "text/plain": [
       "(508, 4)"
      ]
     },
     "execution_count": 1433,
     "metadata": {},
     "output_type": "execute_result"
    }
   ],
   "source": [
    "trips_df.shape"
   ]
  },
  {
   "cell_type": "code",
   "execution_count": 1430,
   "metadata": {},
   "outputs": [
    {
     "data": {
      "text/html": [
       "<div>\n",
       "<style scoped>\n",
       "    .dataframe tbody tr th:only-of-type {\n",
       "        vertical-align: middle;\n",
       "    }\n",
       "\n",
       "    .dataframe tbody tr th {\n",
       "        vertical-align: top;\n",
       "    }\n",
       "\n",
       "    .dataframe thead th {\n",
       "        text-align: right;\n",
       "    }\n",
       "</style>\n",
       "<table border=\"1\" class=\"dataframe\">\n",
       "  <thead>\n",
       "    <tr style=\"text-align: right;\">\n",
       "      <th></th>\n",
       "      <th>Origin</th>\n",
       "      <th>Destination</th>\n",
       "      <th>Departure</th>\n",
       "      <th>Arrival</th>\n",
       "    </tr>\n",
       "    <tr>\n",
       "      <th>Id</th>\n",
       "      <th></th>\n",
       "      <th></th>\n",
       "      <th></th>\n",
       "      <th></th>\n",
       "    </tr>\n",
       "  </thead>\n",
       "  <tbody>\n",
       "    <tr>\n",
       "      <th>319</th>\n",
       "      <td>10</td>\n",
       "      <td>1</td>\n",
       "      <td>930</td>\n",
       "      <td>960</td>\n",
       "    </tr>\n",
       "    <tr>\n",
       "      <th>67</th>\n",
       "      <td>1</td>\n",
       "      <td>1</td>\n",
       "      <td>1035</td>\n",
       "      <td>1095</td>\n",
       "    </tr>\n",
       "    <tr>\n",
       "      <th>28</th>\n",
       "      <td>1</td>\n",
       "      <td>1</td>\n",
       "      <td>840</td>\n",
       "      <td>900</td>\n",
       "    </tr>\n",
       "    <tr>\n",
       "      <th>256</th>\n",
       "      <td>1</td>\n",
       "      <td>1</td>\n",
       "      <td>920</td>\n",
       "      <td>1070</td>\n",
       "    </tr>\n",
       "    <tr>\n",
       "      <th>180</th>\n",
       "      <td>12</td>\n",
       "      <td>5</td>\n",
       "      <td>677</td>\n",
       "      <td>737</td>\n",
       "    </tr>\n",
       "    <tr>\n",
       "      <th>159</th>\n",
       "      <td>4</td>\n",
       "      <td>3</td>\n",
       "      <td>720</td>\n",
       "      <td>780</td>\n",
       "    </tr>\n",
       "    <tr>\n",
       "      <th>327</th>\n",
       "      <td>10</td>\n",
       "      <td>1</td>\n",
       "      <td>1170</td>\n",
       "      <td>1200</td>\n",
       "    </tr>\n",
       "    <tr>\n",
       "      <th>476</th>\n",
       "      <td>8</td>\n",
       "      <td>8</td>\n",
       "      <td>405</td>\n",
       "      <td>495</td>\n",
       "    </tr>\n",
       "    <tr>\n",
       "      <th>387</th>\n",
       "      <td>6</td>\n",
       "      <td>11</td>\n",
       "      <td>540</td>\n",
       "      <td>570</td>\n",
       "    </tr>\n",
       "    <tr>\n",
       "      <th>383</th>\n",
       "      <td>6</td>\n",
       "      <td>11</td>\n",
       "      <td>420</td>\n",
       "      <td>450</td>\n",
       "    </tr>\n",
       "  </tbody>\n",
       "</table>\n",
       "</div>"
      ],
      "text/plain": [
       "     Origin  Destination  Departure  Arrival\n",
       "Id                                          \n",
       "319      10            1        930      960\n",
       "67        1            1       1035     1095\n",
       "28        1            1        840      900\n",
       "256       1            1        920     1070\n",
       "180      12            5        677      737\n",
       "159       4            3        720      780\n",
       "327      10            1       1170     1200\n",
       "476       8            8        405      495\n",
       "387       6           11        540      570\n",
       "383       6           11        420      450"
      ]
     },
     "metadata": {},
     "output_type": "display_data"
    }
   ],
   "source": [
    "display(trips_df.loc[ids_copy])\n",
    "# display(routing_df)\n",
    "# display(deadhead_df)"
   ]
  },
  {
   "cell_type": "code",
   "execution_count": 1399,
   "metadata": {},
   "outputs": [],
   "source": [
    "# show all the options\n",
    "# for partition in partitions(set(ids_copy)):\n",
    "#     if not valid_daily_schedule(partition):\n",
    "#         continue\n",
    "#     print(partition)\n",
    "#     print(get_opex(partition))"
   ]
  },
  {
   "cell_type": "code",
   "execution_count": 447,
   "metadata": {},
   "outputs": [],
   "source": [
    "from itertools import tee\n",
    "def pairwise(iterable):\n",
    "    \"s -> (s0,s1), (s1,s2), (s2, s3), ...\"\n",
    "    a, b = tee(iterable)\n",
    "    next(b, None)\n",
    "    return zip(a, b)"
   ]
  },
  {
   "cell_type": "code",
   "execution_count": 448,
   "metadata": {},
   "outputs": [],
   "source": [
    "def get_service_trip(id):\n",
    "    global trips_df\n",
    "    return trips_df.loc[id]"
   ]
  },
  {
   "cell_type": "code",
   "execution_count": 449,
   "metadata": {},
   "outputs": [],
   "source": [
    "def get_driving_time(s1,s2):\n",
    "    return s1-s2\n",
    "#     return trip[ARRIVAL] - trip[DEPARTURE]"
   ]
  },
  {
   "cell_type": "code",
   "execution_count": 498,
   "metadata": {},
   "outputs": [],
   "source": [
    "def get_deadhead(id_1, id_2):\n",
    "    if id_1 == id_2:\n",
    "        return 0\n",
    "    service_trip_1 = get_service_trip(id_1)\n",
    "    service_trip_2 = get_service_trip(id_2)\n",
    "    return DEADHEAD if service_trip_1[DESTINATION] != service_trip_2[ORIGIN] else 0\n",
    "\n",
    "def get_deadhead_duration(vehicle):\n",
    "    if len(vehicle) == 1:\n",
    "        return 2*DEADHEAD\n",
    "    return 2*DEADHEAD + sum( [get_deadhead(curr_trip_id,next_trip_id) \n",
    "                              for curr_trip_id, next_trip_id in pairwise(vehicle)])"
   ]
  },
  {
   "cell_type": "code",
   "execution_count": 1362,
   "metadata": {},
   "outputs": [],
   "source": [
    "def valid_pair(id_1, id_2):\n",
    "    service_trip_1 = get_service_trip(id_1)\n",
    "    service_trip_2 = get_service_trip(id_2)\n",
    "    if id_1 == id_2:\n",
    "        routing_df.loc[id_1,id_2] = False\n",
    "        deadhead_df.loc[id_1,id_2] = -1\n",
    "        return\n",
    "    \n",
    "    deadhead = get_deadhead(id_1,id_2)    \n",
    "    if service_trip_2[DEPARTURE] < (service_trip_1[ARRIVAL] + deadhead):\n",
    "        routing_df.loc[id_1,id_2] = False\n",
    "        deadhead_df.loc[id_1,id_2] = -1\n",
    "        return\n",
    "    deadhead_df.loc[id_1,id_2] = deadhead\n",
    "    routing_df.loc[id_1,id_2] = True"
   ]
  },
  {
   "cell_type": "code",
   "execution_count": 1281,
   "metadata": {},
   "outputs": [],
   "source": [
    "def valid_vehicle(vehicle):\n",
    "    for curr_trip_id, next_trip_id in pairwise(vehicle):\n",
    "        curr_service_trip = get_service_trip(curr_trip_id)\n",
    "        if curr_service_trip[ARRIVAL] - curr_service_trip[DEPARTURE] < 0:\n",
    "            return False\n",
    "        \n",
    "        next_service_trip = get_service_trip(next_trip_id)\n",
    "        if next_service_trip[ARRIVAL] - next_service_trip[DEPARTURE] < 0:\n",
    "            return False\n",
    "        \n",
    "        deadhead = get_deadhead(curr_trip_id,next_trip_id)\n",
    "        if next_service_trip[DEPARTURE] < (curr_service_trip[ARRIVAL] + deadhead):\n",
    "            return False\n",
    "       \n",
    "    return True\n",
    "\n",
    "def valid_daily_schedule(daily_schedule):\n",
    "    for v in daily_schedule:\n",
    "        if not valid_vehicle(v):\n",
    "            return False\n",
    "    return True"
   ]
  },
  {
   "cell_type": "code",
   "execution_count": 453,
   "metadata": {},
   "outputs": [],
   "source": [
    "def get_vehicle_driving_time(vehicle):\n",
    "    vehicle_duration = 0\n",
    "    deadhead_duration = get_deadhead_duration(vehicle)\n",
    "    for trip_id in vehicle:\n",
    "        service_trip = get_service_trip(trip_id)\n",
    "        vehicle_duration += service_trip[ARRIVAL] - service_trip[DEPARTURE]\n",
    "    return vehicle_duration + deadhead_duration"
   ]
  },
  {
   "cell_type": "code",
   "execution_count": 454,
   "metadata": {},
   "outputs": [],
   "source": [
    "def restricted_legal_vehicle(vehicle):\n",
    "    if not valid_vehicle(vehicle=vehicle):\n",
    "        return False\n",
    "    return get_vehicle_driving_time(vehicle=vehicle) <= MAX_DRIVING_TIME"
   ]
  },
  {
   "cell_type": "code",
   "execution_count": 455,
   "metadata": {},
   "outputs": [],
   "source": [
    "def get_opex(vehicle_list):\n",
    "    return sum( [get_deadhead_duration(v) for v in vehicle_list] )"
   ]
  },
  {
   "cell_type": "code",
   "execution_count": 457,
   "metadata": {},
   "outputs": [],
   "source": [
    "trips_df[DIFF] =get_driving_time(trips_df[ARRIVAL],trips_df[DEPARTURE])"
   ]
  },
  {
   "cell_type": "code",
   "execution_count": 458,
   "metadata": {},
   "outputs": [
    {
     "data": {
      "text/plain": [
       "True"
      ]
     },
     "execution_count": 458,
     "metadata": {},
     "output_type": "execute_result"
    }
   ],
   "source": [
    "valid_vehicle(example)"
   ]
  },
  {
   "cell_type": "code",
   "execution_count": 459,
   "metadata": {},
   "outputs": [
    {
     "data": {
      "text/plain": [
       "45"
      ]
     },
     "execution_count": 459,
     "metadata": {},
     "output_type": "execute_result"
    }
   ],
   "source": [
    "get_deadhead_duration(example)"
   ]
  },
  {
   "cell_type": "code",
   "execution_count": 460,
   "metadata": {},
   "outputs": [
    {
     "data": {
      "text/plain": [
       "225"
      ]
     },
     "execution_count": 460,
     "metadata": {},
     "output_type": "execute_result"
    }
   ],
   "source": [
    "get_vehicle_driving_time(example)"
   ]
  },
  {
   "cell_type": "code",
   "execution_count": 461,
   "metadata": {},
   "outputs": [
    {
     "data": {
      "text/plain": [
       "True"
      ]
     },
     "execution_count": 461,
     "metadata": {},
     "output_type": "execute_result"
    }
   ],
   "source": [
    "restricted_legal_vehicle(example)"
   ]
  },
  {
   "cell_type": "code",
   "execution_count": 462,
   "metadata": {},
   "outputs": [],
   "source": [
    "from itertools import chain, combinations\n",
    "\n",
    "def powerset(iterable):\n",
    "    \"powerset([1,2,3]) --> () (1,) (2,) (3,) (1,2) (1,3) (2,3) (1,2,3)\"\n",
    "    s = list(iterable)\n",
    "    return chain.from_iterable(combinations(s, r) for r in range(len(s)+1))"
   ]
  },
  {
   "cell_type": "code",
   "execution_count": 48,
   "metadata": {},
   "outputs": [
    {
     "name": "stdout",
     "output_type": "stream",
     "text": [
      "()\n",
      "(1,)\n",
      "(27,)\n",
      "(28,)\n",
      "(1, 27)\n",
      "(1, 28)\n",
      "(27, 28)\n",
      "(1, 27, 28)\n",
      "Wall time: 2 ms\n"
     ]
    }
   ],
   "source": [
    "%%time\n",
    "for p in powerset([1,27,28]):\n",
    "    print(p)"
   ]
  },
  {
   "cell_type": "code",
   "execution_count": 74,
   "metadata": {},
   "outputs": [],
   "source": [
    "def partitions(A):\n",
    "    if not A:\n",
    "        yield []\n",
    "    else:\n",
    "        a, *R = A\n",
    "        for partition in partitions(R):\n",
    "            yield partition + [[a]]\n",
    "            for i, subset in enumerate(partition):\n",
    "                yield partition[:i] + [[a] + subset] + partition[i+1:]"
   ]
  },
  {
   "cell_type": "code",
   "execution_count": 75,
   "metadata": {},
   "outputs": [
    {
     "name": "stdout",
     "output_type": "stream",
     "text": [
      "[[28], [27], [1]]\n",
      "[[1, 28], [27]]\n",
      "[[28], [1, 27]]\n",
      "[[27, 28], [1]]\n",
      "[[1, 27, 28]]\n"
     ]
    }
   ],
   "source": [
    "for partition in partitions({1, 27, 28}):\n",
    "    print(partition)"
   ]
  },
  {
   "cell_type": "code",
   "execution_count": 143,
   "metadata": {
    "scrolled": false
   },
   "outputs": [],
   "source": [
    "daily_schedule = []\n",
    "opex = []\n",
    "for partition in partitions({1, 2, 3, 4, 5, 6, 7, 8, 9, 10}):\n",
    "    for p in partition:\n",
    "        if not restricted_legal_vehicle(p):\n",
    "            continue\n",
    "    daily_schedule.append(partition)\n",
    "    opex.append(get_opex(partition))"
   ]
  },
  {
   "cell_type": "code",
   "execution_count": 112,
   "metadata": {},
   "outputs": [],
   "source": [
    "import numpy as np"
   ]
  },
  {
   "cell_type": "code",
   "execution_count": 145,
   "metadata": {},
   "outputs": [
    {
     "data": {
      "text/plain": [
       "[[1, 2, 3, 4, 5, 6, 7]]"
      ]
     },
     "execution_count": 145,
     "metadata": {},
     "output_type": "execute_result"
    }
   ],
   "source": [
    "daily_schedule[np.argmin(opex)]"
   ]
  },
  {
   "cell_type": "code",
   "execution_count": 98,
   "metadata": {},
   "outputs": [
    {
     "name": "stdout",
     "output_type": "stream",
     "text": [
      "[1, 2, 3, 4, 5, 6, 7, 8]\n"
     ]
    }
   ],
   "source": [
    "v = []\n",
    "for i in trips_df.index:\n",
    "    v.append(i)\n",
    "    if not restricted_legal_vehicle(v):\n",
    "        print(v)\n",
    "        break"
   ]
  },
  {
   "cell_type": "code",
   "execution_count": 99,
   "metadata": {},
   "outputs": [
    {
     "data": {
      "text/plain": [
       "True"
      ]
     },
     "execution_count": 99,
     "metadata": {},
     "output_type": "execute_result"
    }
   ],
   "source": [
    "valid_vehicle(v)"
   ]
  },
  {
   "cell_type": "code",
   "execution_count": 100,
   "metadata": {},
   "outputs": [
    {
     "data": {
      "text/plain": [
       "False"
      ]
     },
     "execution_count": 100,
     "metadata": {},
     "output_type": "execute_result"
    }
   ],
   "source": [
    "restricted_legal_vehicle(v)"
   ]
  },
  {
   "cell_type": "code",
   "execution_count": 212,
   "metadata": {},
   "outputs": [],
   "source": [
    "ids = [1, 27, 28, 100]"
   ]
  },
  {
   "cell_type": "code",
   "execution_count": 170,
   "metadata": {},
   "outputs": [
    {
     "data": {
      "text/plain": [
       "{1, 2, 3, 4, 5, 6, 7, 8, 9, 10, 11, 12}"
      ]
     },
     "execution_count": 170,
     "metadata": {},
     "output_type": "execute_result"
    }
   ],
   "source": [
    "origin_stations = set(trips_df[ORIGIN].unique())\n",
    "destination_stations = set(trips_df[DESTINATION].unique())\n",
    "origin_stations.union(destination_stations)"
   ]
  },
  {
   "cell_type": "code",
   "execution_count": 165,
   "metadata": {},
   "outputs": [
    {
     "data": {
      "text/plain": [
       "array([ 9,  2,  1,  4,  3, 10,  7, 12,  5,  6, 11,  8], dtype=int64)"
      ]
     },
     "execution_count": 165,
     "metadata": {},
     "output_type": "execute_result"
    }
   ],
   "source": [
    "stations = trips_df[DESTINATION].unique()\n",
    "stations"
   ]
  },
  {
   "cell_type": "code",
   "execution_count": 330,
   "metadata": {},
   "outputs": [],
   "source": []
  },
  {
   "cell_type": "code",
   "execution_count": 326,
   "metadata": {},
   "outputs": [],
   "source": [
    "import numpy as np"
   ]
  },
  {
   "cell_type": "code",
   "execution_count": 327,
   "metadata": {},
   "outputs": [],
   "source": [
    "df = pd.DataFrame(index=ids,columns=ids,data=0)"
   ]
  },
  {
   "cell_type": "code",
   "execution_count": 328,
   "metadata": {},
   "outputs": [],
   "source": [
    "for i in range(len(df.index)):\n",
    "    for j in range(len(df.columns)):\n",
    "        #print(i,j)\n",
    "\n",
    "        if i == j:\n",
    "            df.iloc[i,j] = 0\n",
    "        else:\n",
    "            id_1 = ids[j-1]\n",
    "            id_2 = ids[j]\n",
    "            if valid_pair(id_1,id_2):\n",
    "                df.iloc[i,j] = get_deadhead(id_1,id_2)\n",
    "            else:\n",
    "                df.iloc[i,j] = -1\n",
    "#         print(id_1,id_2)\n",
    "#         print()\n",
    "    "
   ]
  },
  {
   "cell_type": "code",
   "execution_count": 418,
   "metadata": {},
   "outputs": [],
   "source": [
    "ids = [1, 27, 28,100]\n",
    "df = trips_df.loc[ids]"
   ]
  },
  {
   "cell_type": "code",
   "execution_count": 421,
   "metadata": {},
   "outputs": [
    {
     "data": {
      "text/html": [
       "<div>\n",
       "<style scoped>\n",
       "    .dataframe tbody tr th:only-of-type {\n",
       "        vertical-align: middle;\n",
       "    }\n",
       "\n",
       "    .dataframe tbody tr th {\n",
       "        vertical-align: top;\n",
       "    }\n",
       "\n",
       "    .dataframe thead th {\n",
       "        text-align: right;\n",
       "    }\n",
       "</style>\n",
       "<table border=\"1\" class=\"dataframe\">\n",
       "  <thead>\n",
       "    <tr style=\"text-align: right;\">\n",
       "      <th></th>\n",
       "      <th>Origin</th>\n",
       "      <th>Destination</th>\n",
       "      <th>Departure</th>\n",
       "      <th>Arrival</th>\n",
       "      <th>sort</th>\n",
       "    </tr>\n",
       "    <tr>\n",
       "      <th>Id</th>\n",
       "      <th></th>\n",
       "      <th></th>\n",
       "      <th></th>\n",
       "      <th></th>\n",
       "      <th></th>\n",
       "    </tr>\n",
       "  </thead>\n",
       "  <tbody>\n",
       "    <tr>\n",
       "      <th>1</th>\n",
       "      <td>2</td>\n",
       "      <td>9</td>\n",
       "      <td>305</td>\n",
       "      <td>365</td>\n",
       "      <td>-1</td>\n",
       "    </tr>\n",
       "    <tr>\n",
       "      <th>27</th>\n",
       "      <td>1</td>\n",
       "      <td>1</td>\n",
       "      <td>780</td>\n",
       "      <td>840</td>\n",
       "      <td>-1</td>\n",
       "    </tr>\n",
       "    <tr>\n",
       "      <th>28</th>\n",
       "      <td>1</td>\n",
       "      <td>1</td>\n",
       "      <td>840</td>\n",
       "      <td>900</td>\n",
       "      <td>-1</td>\n",
       "    </tr>\n",
       "    <tr>\n",
       "      <th>100</th>\n",
       "      <td>10</td>\n",
       "      <td>1</td>\n",
       "      <td>480</td>\n",
       "      <td>510</td>\n",
       "      <td>-1</td>\n",
       "    </tr>\n",
       "  </tbody>\n",
       "</table>\n",
       "</div>"
      ],
      "text/plain": [
       "     Origin  Destination  Departure  Arrival  sort\n",
       "Id                                                \n",
       "1         2            9        305      365    -1\n",
       "27        1            1        780      840    -1\n",
       "28        1            1        840      900    -1\n",
       "100      10            1        480      510    -1"
      ]
     },
     "execution_count": 421,
     "metadata": {},
     "output_type": "execute_result"
    }
   ],
   "source": [
    "df['sort'] = -1\n",
    "df"
   ]
  },
  {
   "cell_type": "code",
   "execution_count": 463,
   "metadata": {},
   "outputs": [
    {
     "data": {
      "text/html": [
       "<div>\n",
       "<style scoped>\n",
       "    .dataframe tbody tr th:only-of-type {\n",
       "        vertical-align: middle;\n",
       "    }\n",
       "\n",
       "    .dataframe tbody tr th {\n",
       "        vertical-align: top;\n",
       "    }\n",
       "\n",
       "    .dataframe thead th {\n",
       "        text-align: right;\n",
       "    }\n",
       "</style>\n",
       "<table border=\"1\" class=\"dataframe\">\n",
       "  <thead>\n",
       "    <tr style=\"text-align: right;\">\n",
       "      <th></th>\n",
       "      <th>Origin</th>\n",
       "      <th>Destination</th>\n",
       "      <th>Departure</th>\n",
       "      <th>Arrival</th>\n",
       "      <th>Diff</th>\n",
       "    </tr>\n",
       "    <tr>\n",
       "      <th>Id</th>\n",
       "      <th></th>\n",
       "      <th></th>\n",
       "      <th></th>\n",
       "      <th></th>\n",
       "      <th></th>\n",
       "    </tr>\n",
       "  </thead>\n",
       "  <tbody>\n",
       "    <tr>\n",
       "      <th>1</th>\n",
       "      <td>2</td>\n",
       "      <td>9</td>\n",
       "      <td>305</td>\n",
       "      <td>365</td>\n",
       "      <td>60</td>\n",
       "    </tr>\n",
       "    <tr>\n",
       "      <th>2</th>\n",
       "      <td>9</td>\n",
       "      <td>2</td>\n",
       "      <td>365</td>\n",
       "      <td>425</td>\n",
       "      <td>60</td>\n",
       "    </tr>\n",
       "    <tr>\n",
       "      <th>3</th>\n",
       "      <td>2</td>\n",
       "      <td>9</td>\n",
       "      <td>425</td>\n",
       "      <td>485</td>\n",
       "      <td>60</td>\n",
       "    </tr>\n",
       "    <tr>\n",
       "      <th>4</th>\n",
       "      <td>9</td>\n",
       "      <td>2</td>\n",
       "      <td>485</td>\n",
       "      <td>545</td>\n",
       "      <td>60</td>\n",
       "    </tr>\n",
       "    <tr>\n",
       "      <th>5</th>\n",
       "      <td>2</td>\n",
       "      <td>9</td>\n",
       "      <td>545</td>\n",
       "      <td>605</td>\n",
       "      <td>60</td>\n",
       "    </tr>\n",
       "    <tr>\n",
       "      <th>6</th>\n",
       "      <td>9</td>\n",
       "      <td>2</td>\n",
       "      <td>605</td>\n",
       "      <td>665</td>\n",
       "      <td>60</td>\n",
       "    </tr>\n",
       "    <tr>\n",
       "      <th>7</th>\n",
       "      <td>2</td>\n",
       "      <td>9</td>\n",
       "      <td>665</td>\n",
       "      <td>725</td>\n",
       "      <td>60</td>\n",
       "    </tr>\n",
       "    <tr>\n",
       "      <th>8</th>\n",
       "      <td>9</td>\n",
       "      <td>2</td>\n",
       "      <td>725</td>\n",
       "      <td>785</td>\n",
       "      <td>60</td>\n",
       "    </tr>\n",
       "    <tr>\n",
       "      <th>9</th>\n",
       "      <td>2</td>\n",
       "      <td>9</td>\n",
       "      <td>785</td>\n",
       "      <td>845</td>\n",
       "      <td>60</td>\n",
       "    </tr>\n",
       "    <tr>\n",
       "      <th>10</th>\n",
       "      <td>9</td>\n",
       "      <td>2</td>\n",
       "      <td>845</td>\n",
       "      <td>905</td>\n",
       "      <td>60</td>\n",
       "    </tr>\n",
       "    <tr>\n",
       "      <th>11</th>\n",
       "      <td>2</td>\n",
       "      <td>9</td>\n",
       "      <td>905</td>\n",
       "      <td>965</td>\n",
       "      <td>60</td>\n",
       "    </tr>\n",
       "    <tr>\n",
       "      <th>12</th>\n",
       "      <td>9</td>\n",
       "      <td>2</td>\n",
       "      <td>965</td>\n",
       "      <td>1025</td>\n",
       "      <td>60</td>\n",
       "    </tr>\n",
       "    <tr>\n",
       "      <th>13</th>\n",
       "      <td>2</td>\n",
       "      <td>9</td>\n",
       "      <td>1025</td>\n",
       "      <td>1085</td>\n",
       "      <td>60</td>\n",
       "    </tr>\n",
       "    <tr>\n",
       "      <th>14</th>\n",
       "      <td>9</td>\n",
       "      <td>2</td>\n",
       "      <td>1085</td>\n",
       "      <td>1145</td>\n",
       "      <td>60</td>\n",
       "    </tr>\n",
       "    <tr>\n",
       "      <th>15</th>\n",
       "      <td>2</td>\n",
       "      <td>9</td>\n",
       "      <td>1145</td>\n",
       "      <td>1205</td>\n",
       "      <td>60</td>\n",
       "    </tr>\n",
       "    <tr>\n",
       "      <th>16</th>\n",
       "      <td>9</td>\n",
       "      <td>2</td>\n",
       "      <td>1205</td>\n",
       "      <td>1265</td>\n",
       "      <td>60</td>\n",
       "    </tr>\n",
       "    <tr>\n",
       "      <th>17</th>\n",
       "      <td>2</td>\n",
       "      <td>9</td>\n",
       "      <td>1265</td>\n",
       "      <td>1325</td>\n",
       "      <td>60</td>\n",
       "    </tr>\n",
       "    <tr>\n",
       "      <th>18</th>\n",
       "      <td>9</td>\n",
       "      <td>2</td>\n",
       "      <td>1325</td>\n",
       "      <td>1385</td>\n",
       "      <td>60</td>\n",
       "    </tr>\n",
       "    <tr>\n",
       "      <th>19</th>\n",
       "      <td>2</td>\n",
       "      <td>9</td>\n",
       "      <td>1385</td>\n",
       "      <td>1445</td>\n",
       "      <td>60</td>\n",
       "    </tr>\n",
       "  </tbody>\n",
       "</table>\n",
       "</div>"
      ],
      "text/plain": [
       "    Origin  Destination  Departure  Arrival  Diff\n",
       "Id                                               \n",
       "1        2            9        305      365    60\n",
       "2        9            2        365      425    60\n",
       "3        2            9        425      485    60\n",
       "4        9            2        485      545    60\n",
       "5        2            9        545      605    60\n",
       "6        9            2        605      665    60\n",
       "7        2            9        665      725    60\n",
       "8        9            2        725      785    60\n",
       "9        2            9        785      845    60\n",
       "10       9            2        845      905    60\n",
       "11       2            9        905      965    60\n",
       "12       9            2        965     1025    60\n",
       "13       2            9       1025     1085    60\n",
       "14       9            2       1085     1145    60\n",
       "15       2            9       1145     1205    60\n",
       "16       9            2       1205     1265    60\n",
       "17       2            9       1265     1325    60\n",
       "18       9            2       1325     1385    60\n",
       "19       2            9       1385     1445    60"
      ]
     },
     "execution_count": 463,
     "metadata": {},
     "output_type": "execute_result"
    }
   ],
   "source": [
    "trips_df[0:19]"
   ]
  },
  {
   "cell_type": "code",
   "execution_count": 414,
   "metadata": {},
   "outputs": [
    {
     "data": {
      "text/html": [
       "<div>\n",
       "<style scoped>\n",
       "    .dataframe tbody tr th:only-of-type {\n",
       "        vertical-align: middle;\n",
       "    }\n",
       "\n",
       "    .dataframe tbody tr th {\n",
       "        vertical-align: top;\n",
       "    }\n",
       "\n",
       "    .dataframe thead th {\n",
       "        text-align: right;\n",
       "    }\n",
       "</style>\n",
       "<table border=\"1\" class=\"dataframe\">\n",
       "  <thead>\n",
       "    <tr style=\"text-align: right;\">\n",
       "      <th></th>\n",
       "      <th>1</th>\n",
       "      <th>27</th>\n",
       "      <th>28</th>\n",
       "      <th>100</th>\n",
       "    </tr>\n",
       "  </thead>\n",
       "  <tbody>\n",
       "    <tr>\n",
       "      <th>1</th>\n",
       "      <td>True</td>\n",
       "      <td>True</td>\n",
       "      <td>True</td>\n",
       "      <td>True</td>\n",
       "    </tr>\n",
       "    <tr>\n",
       "      <th>27</th>\n",
       "      <td>False</td>\n",
       "      <td>True</td>\n",
       "      <td>True</td>\n",
       "      <td>False</td>\n",
       "    </tr>\n",
       "    <tr>\n",
       "      <th>28</th>\n",
       "      <td>False</td>\n",
       "      <td>False</td>\n",
       "      <td>True</td>\n",
       "      <td>False</td>\n",
       "    </tr>\n",
       "    <tr>\n",
       "      <th>100</th>\n",
       "      <td>False</td>\n",
       "      <td>True</td>\n",
       "      <td>True</td>\n",
       "      <td>True</td>\n",
       "    </tr>\n",
       "  </tbody>\n",
       "</table>\n",
       "</div>"
      ],
      "text/plain": [
       "       1      27    28     100\n",
       "1     True   True  True   True\n",
       "27   False   True  True  False\n",
       "28   False  False  True  False\n",
       "100  False   True  True   True"
      ]
     },
     "execution_count": 414,
     "metadata": {},
     "output_type": "execute_result"
    }
   ],
   "source": [
    "for i in ids:\n",
    "    for j in ids:  \n",
    "        df.loc[i,j] = valid_pair(i,j)\n",
    "df       "
   ]
  }
 ],
 "metadata": {
  "kernelspec": {
   "display_name": "Python 3",
   "language": "python",
   "name": "python3"
  },
  "language_info": {
   "codemirror_mode": {
    "name": "ipython",
    "version": 3
   },
   "file_extension": ".py",
   "mimetype": "text/x-python",
   "name": "python",
   "nbconvert_exporter": "python",
   "pygments_lexer": "ipython3",
   "version": "3.7.3"
  }
 },
 "nbformat": 4,
 "nbformat_minor": 2
}
