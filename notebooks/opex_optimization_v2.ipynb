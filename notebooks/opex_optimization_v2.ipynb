{
 "cells": [
  {
   "cell_type": "code",
   "execution_count": 1,
   "metadata": {},
   "outputs": [],
   "source": [
    "import pandas as pd\n",
    "import numpy as np\n",
    "import random\n",
    "from itertools import tee\n",
    "import math"
   ]
  },
  {
   "cell_type": "code",
   "execution_count": 2,
   "metadata": {},
   "outputs": [
    {
     "data": {
      "text/plain": [
       "'0.25.1'"
      ]
     },
     "execution_count": 2,
     "metadata": {},
     "output_type": "execute_result"
    }
   ],
   "source": [
    "pd.__version__"
   ]
  },
  {
   "cell_type": "code",
   "execution_count": 3,
   "metadata": {},
   "outputs": [
    {
     "data": {
      "text/plain": [
       "'1.16.5'"
      ]
     },
     "execution_count": 3,
     "metadata": {},
     "output_type": "execute_result"
    }
   ],
   "source": [
    "np.__version__"
   ]
  },
  {
   "cell_type": "code",
   "execution_count": 474,
   "metadata": {},
   "outputs": [],
   "source": [
    "ID = 'Id'\n",
    "ORIGIN = 'Origin'\n",
    "DESTINATION = 'Destination'\n",
    "DEPARTURE = 'Departure'\n",
    "ARRIVAL = 'Arrival'\n",
    "RESTRICTED_TIME = 60 * 8\n",
    "N = 508"
   ]
  },
  {
   "cell_type": "code",
   "execution_count": 475,
   "metadata": {},
   "outputs": [],
   "source": [
    "file = 'service_trips.csv'"
   ]
  },
  {
   "cell_type": "code",
   "execution_count": 476,
   "metadata": {},
   "outputs": [],
   "source": [
    "def pairwise(iterable):\n",
    "    \"s -> (s0,s1), (s1,s2), (s2, s3), ...\"\n",
    "    a, b = tee(iterable)\n",
    "    next(b, None)\n",
    "    return zip(a, b)"
   ]
  },
  {
   "cell_type": "code",
   "execution_count": 477,
   "metadata": {},
   "outputs": [],
   "source": [
    "def get_deadhead(id_1, id_2):\n",
    "    global trips_df\n",
    "    return 15 if trips_df.loc[id_1][DESTINATION] != trips_df.loc[id_2][ORIGIN] else 0"
   ]
  },
  {
   "cell_type": "code",
   "execution_count": 478,
   "metadata": {},
   "outputs": [],
   "source": [
    "def valid_pair(id_1, id_2):\n",
    "    global trips_df\n",
    "    return True if trips_df.loc[id_1][ARRIVAL] + get_deadhead(id_1, id_2) <= trips_df.loc[id_2][DEPARTURE] else False"
   ]
  },
  {
   "cell_type": "code",
   "execution_count": 479,
   "metadata": {},
   "outputs": [],
   "source": [
    "def valid_vehicle(vehicle):\n",
    "    for trip_1, trip_2 in pairwise(vehicle):\n",
    "        if not valid_pair(id_1=trip_1, id_2=trip_2):\n",
    "            return False\n",
    "    return True"
   ]
  },
  {
   "cell_type": "code",
   "execution_count": 480,
   "metadata": {},
   "outputs": [],
   "source": [
    "def deadhead_duration(vehicle):\n",
    "    duration = 30\n",
    "    for trip_1, trip_2 in pairwise(vehicle):\n",
    "        duration += get_deadhead(id_1=trip_1, id_2=trip_2)\n",
    "    return duration"
   ]
  },
  {
   "cell_type": "code",
   "execution_count": 481,
   "metadata": {},
   "outputs": [],
   "source": [
    "def restricted_vehicle(vehicle):\n",
    "    global trips_df\n",
    "\n",
    "    if not valid_vehicle(vehicle=vehicle):\n",
    "        return False\n",
    "    \n",
    "    duration = deadhead_duration(vehicle=vehicle)\n",
    "    for trip in vehicle:\n",
    "        duration += trips_df.loc[trip][ARRIVAL] - trips_df.loc[trip][DEPARTURE]\n",
    "        \n",
    "    return True if duration <= RESTRICTED_TIME else False"
   ]
  },
  {
   "cell_type": "code",
   "execution_count": 482,
   "metadata": {},
   "outputs": [],
   "source": [
    "def valid_schedule(schedule):\n",
    "    for vehicle in schedule:\n",
    "        if not restricted_vehicle(vehicle):\n",
    "            return False\n",
    "    return True"
   ]
  },
  {
   "cell_type": "code",
   "execution_count": 483,
   "metadata": {},
   "outputs": [],
   "source": [
    "def get_schedule_opex(schedule):\n",
    "    return sum( [deadhead_duration(vehicle) for vehicle in schedule] )"
   ]
  },
  {
   "cell_type": "code",
   "execution_count": 484,
   "metadata": {},
   "outputs": [],
   "source": [
    "def get_matrices():\n",
    "    global trips_df\n",
    "    neighbors_matrix = pd.DataFrame(False, index=trips_df.index, columns=trips_df.index)\n",
    "    penalty_matrix = pd.DataFrame(np.nan, index=trips_df.index, columns=trips_df.index)\n",
    "\n",
    "    u_triu_indices = np.triu_indices(neighbors_matrix.shape[0], 1)\n",
    "    for i,j in zip(u_triu_indices[0], u_triu_indices[1]):\n",
    "        pair = valid_pair(id_1=neighbors_matrix.index[i], id_2=neighbors_matrix.columns[j])\n",
    "        neighbors_matrix.iloc[i,j] = pair\n",
    "        if pair:\n",
    "            penalty_matrix.iloc[i,j] = get_deadhead(id_1=penalty_matrix.index[i], id_2=penalty_matrix.columns[j])\n",
    "\n",
    "    return neighbors_matrix, penalty_matrix"
   ]
  },
  {
   "cell_type": "code",
   "execution_count": 485,
   "metadata": {},
   "outputs": [
    {
     "name": "stdout",
     "output_type": "stream",
     "text": [
      "Wall time: 8 ms\n"
     ]
    }
   ],
   "source": [
    "%%time\n",
    "trips_df = pd.read_csv(file,index_col=0)\n",
    "trips_df = trips_df.sample(n=N)\n",
    "trips_df.sort_values(by=DEPARTURE, inplace=True)\n",
    "# trips_df = trips_df.loc[[1,27,28]]\n",
    "trips = set(trips_df.index)"
   ]
  },
  {
   "cell_type": "code",
   "execution_count": 486,
   "metadata": {},
   "outputs": [
    {
     "data": {
      "text/html": [
       "<div>\n",
       "<style scoped>\n",
       "    .dataframe tbody tr th:only-of-type {\n",
       "        vertical-align: middle;\n",
       "    }\n",
       "\n",
       "    .dataframe tbody tr th {\n",
       "        vertical-align: top;\n",
       "    }\n",
       "\n",
       "    .dataframe thead th {\n",
       "        text-align: right;\n",
       "    }\n",
       "</style>\n",
       "<table border=\"1\" class=\"dataframe\">\n",
       "  <thead>\n",
       "    <tr style=\"text-align: right;\">\n",
       "      <th></th>\n",
       "      <th>Origin</th>\n",
       "      <th>Destination</th>\n",
       "      <th>Departure</th>\n",
       "      <th>Arrival</th>\n",
       "    </tr>\n",
       "    <tr>\n",
       "      <th>Id</th>\n",
       "      <th></th>\n",
       "      <th></th>\n",
       "      <th></th>\n",
       "      <th></th>\n",
       "    </tr>\n",
       "  </thead>\n",
       "  <tbody>\n",
       "    <tr>\n",
       "      <th>1</th>\n",
       "      <td>2</td>\n",
       "      <td>9</td>\n",
       "      <td>305</td>\n",
       "      <td>365</td>\n",
       "    </tr>\n",
       "    <tr>\n",
       "      <th>368</th>\n",
       "      <td>1</td>\n",
       "      <td>1</td>\n",
       "      <td>320</td>\n",
       "      <td>470</td>\n",
       "    </tr>\n",
       "    <tr>\n",
       "      <th>88</th>\n",
       "      <td>3</td>\n",
       "      <td>4</td>\n",
       "      <td>330</td>\n",
       "      <td>390</td>\n",
       "    </tr>\n",
       "    <tr>\n",
       "      <th>375</th>\n",
       "      <td>8</td>\n",
       "      <td>8</td>\n",
       "      <td>330</td>\n",
       "      <td>420</td>\n",
       "    </tr>\n",
       "    <tr>\n",
       "      <th>481</th>\n",
       "      <td>2</td>\n",
       "      <td>9</td>\n",
       "      <td>335</td>\n",
       "      <td>395</td>\n",
       "    </tr>\n",
       "  </tbody>\n",
       "</table>\n",
       "</div>"
      ],
      "text/plain": [
       "     Origin  Destination  Departure  Arrival\n",
       "Id                                          \n",
       "1         2            9        305      365\n",
       "368       1            1        320      470\n",
       "88        3            4        330      390\n",
       "375       8            8        330      420\n",
       "481       2            9        335      395"
      ]
     },
     "execution_count": 486,
     "metadata": {},
     "output_type": "execute_result"
    }
   ],
   "source": [
    "trips_df.head()"
   ]
  },
  {
   "cell_type": "code",
   "execution_count": 487,
   "metadata": {},
   "outputs": [
    {
     "name": "stdout",
     "output_type": "stream",
     "text": [
      "Wall time: 13min 53s\n"
     ]
    }
   ],
   "source": [
    "%%time\n",
    "neighbors_matrix, penalty_matrix = get_matrices()"
   ]
  },
  {
   "cell_type": "code",
   "execution_count": 488,
   "metadata": {},
   "outputs": [
    {
     "data": {
      "text/html": [
       "<div>\n",
       "<style scoped>\n",
       "    .dataframe tbody tr th:only-of-type {\n",
       "        vertical-align: middle;\n",
       "    }\n",
       "\n",
       "    .dataframe tbody tr th {\n",
       "        vertical-align: top;\n",
       "    }\n",
       "\n",
       "    .dataframe thead th {\n",
       "        text-align: right;\n",
       "    }\n",
       "</style>\n",
       "<table border=\"1\" class=\"dataframe\">\n",
       "  <thead>\n",
       "    <tr style=\"text-align: right;\">\n",
       "      <th>Id</th>\n",
       "      <th>1</th>\n",
       "      <th>368</th>\n",
       "      <th>88</th>\n",
       "      <th>375</th>\n",
       "      <th>481</th>\n",
       "      <th>484</th>\n",
       "      <th>400</th>\n",
       "      <th>487</th>\n",
       "      <th>380</th>\n",
       "      <th>490</th>\n",
       "      <th>...</th>\n",
       "      <th>448</th>\n",
       "      <th>426</th>\n",
       "      <th>374</th>\n",
       "      <th>37</th>\n",
       "      <th>19</th>\n",
       "      <th>55</th>\n",
       "      <th>73</th>\n",
       "      <th>259</th>\n",
       "      <th>413</th>\n",
       "      <th>462</th>\n",
       "    </tr>\n",
       "    <tr>\n",
       "      <th>Id</th>\n",
       "      <th></th>\n",
       "      <th></th>\n",
       "      <th></th>\n",
       "      <th></th>\n",
       "      <th></th>\n",
       "      <th></th>\n",
       "      <th></th>\n",
       "      <th></th>\n",
       "      <th></th>\n",
       "      <th></th>\n",
       "      <th></th>\n",
       "      <th></th>\n",
       "      <th></th>\n",
       "      <th></th>\n",
       "      <th></th>\n",
       "      <th></th>\n",
       "      <th></th>\n",
       "      <th></th>\n",
       "      <th></th>\n",
       "      <th></th>\n",
       "      <th></th>\n",
       "    </tr>\n",
       "  </thead>\n",
       "  <tbody>\n",
       "    <tr>\n",
       "      <th>1</th>\n",
       "      <td>False</td>\n",
       "      <td>False</td>\n",
       "      <td>False</td>\n",
       "      <td>False</td>\n",
       "      <td>False</td>\n",
       "      <td>False</td>\n",
       "      <td>False</td>\n",
       "      <td>False</td>\n",
       "      <td>False</td>\n",
       "      <td>False</td>\n",
       "      <td>...</td>\n",
       "      <td>True</td>\n",
       "      <td>True</td>\n",
       "      <td>True</td>\n",
       "      <td>True</td>\n",
       "      <td>True</td>\n",
       "      <td>True</td>\n",
       "      <td>True</td>\n",
       "      <td>True</td>\n",
       "      <td>True</td>\n",
       "      <td>True</td>\n",
       "    </tr>\n",
       "    <tr>\n",
       "      <th>368</th>\n",
       "      <td>False</td>\n",
       "      <td>False</td>\n",
       "      <td>False</td>\n",
       "      <td>False</td>\n",
       "      <td>False</td>\n",
       "      <td>False</td>\n",
       "      <td>False</td>\n",
       "      <td>False</td>\n",
       "      <td>False</td>\n",
       "      <td>False</td>\n",
       "      <td>...</td>\n",
       "      <td>True</td>\n",
       "      <td>True</td>\n",
       "      <td>True</td>\n",
       "      <td>True</td>\n",
       "      <td>True</td>\n",
       "      <td>True</td>\n",
       "      <td>True</td>\n",
       "      <td>True</td>\n",
       "      <td>True</td>\n",
       "      <td>True</td>\n",
       "    </tr>\n",
       "    <tr>\n",
       "      <th>88</th>\n",
       "      <td>False</td>\n",
       "      <td>False</td>\n",
       "      <td>False</td>\n",
       "      <td>False</td>\n",
       "      <td>False</td>\n",
       "      <td>False</td>\n",
       "      <td>False</td>\n",
       "      <td>False</td>\n",
       "      <td>False</td>\n",
       "      <td>False</td>\n",
       "      <td>...</td>\n",
       "      <td>True</td>\n",
       "      <td>True</td>\n",
       "      <td>True</td>\n",
       "      <td>True</td>\n",
       "      <td>True</td>\n",
       "      <td>True</td>\n",
       "      <td>True</td>\n",
       "      <td>True</td>\n",
       "      <td>True</td>\n",
       "      <td>True</td>\n",
       "    </tr>\n",
       "    <tr>\n",
       "      <th>375</th>\n",
       "      <td>False</td>\n",
       "      <td>False</td>\n",
       "      <td>False</td>\n",
       "      <td>False</td>\n",
       "      <td>False</td>\n",
       "      <td>False</td>\n",
       "      <td>False</td>\n",
       "      <td>False</td>\n",
       "      <td>False</td>\n",
       "      <td>False</td>\n",
       "      <td>...</td>\n",
       "      <td>True</td>\n",
       "      <td>True</td>\n",
       "      <td>True</td>\n",
       "      <td>True</td>\n",
       "      <td>True</td>\n",
       "      <td>True</td>\n",
       "      <td>True</td>\n",
       "      <td>True</td>\n",
       "      <td>True</td>\n",
       "      <td>True</td>\n",
       "    </tr>\n",
       "    <tr>\n",
       "      <th>481</th>\n",
       "      <td>False</td>\n",
       "      <td>False</td>\n",
       "      <td>False</td>\n",
       "      <td>False</td>\n",
       "      <td>False</td>\n",
       "      <td>False</td>\n",
       "      <td>False</td>\n",
       "      <td>False</td>\n",
       "      <td>False</td>\n",
       "      <td>False</td>\n",
       "      <td>...</td>\n",
       "      <td>True</td>\n",
       "      <td>True</td>\n",
       "      <td>True</td>\n",
       "      <td>True</td>\n",
       "      <td>True</td>\n",
       "      <td>True</td>\n",
       "      <td>True</td>\n",
       "      <td>True</td>\n",
       "      <td>True</td>\n",
       "      <td>True</td>\n",
       "    </tr>\n",
       "  </tbody>\n",
       "</table>\n",
       "<p>5 rows × 508 columns</p>\n",
       "</div>"
      ],
      "text/plain": [
       "Id     1      368    88     375    481    484    400    487    380    490  \\\n",
       "Id                                                                          \n",
       "1    False  False  False  False  False  False  False  False  False  False   \n",
       "368  False  False  False  False  False  False  False  False  False  False   \n",
       "88   False  False  False  False  False  False  False  False  False  False   \n",
       "375  False  False  False  False  False  False  False  False  False  False   \n",
       "481  False  False  False  False  False  False  False  False  False  False   \n",
       "\n",
       "Id   ...   448   426   374   37    19    55    73    259   413   462  \n",
       "Id   ...                                                              \n",
       "1    ...  True  True  True  True  True  True  True  True  True  True  \n",
       "368  ...  True  True  True  True  True  True  True  True  True  True  \n",
       "88   ...  True  True  True  True  True  True  True  True  True  True  \n",
       "375  ...  True  True  True  True  True  True  True  True  True  True  \n",
       "481  ...  True  True  True  True  True  True  True  True  True  True  \n",
       "\n",
       "[5 rows x 508 columns]"
      ]
     },
     "execution_count": 488,
     "metadata": {},
     "output_type": "execute_result"
    }
   ],
   "source": [
    "neighbors_matrix.head()"
   ]
  },
  {
   "cell_type": "code",
   "execution_count": 489,
   "metadata": {},
   "outputs": [
    {
     "data": {
      "text/html": [
       "<div>\n",
       "<style scoped>\n",
       "    .dataframe tbody tr th:only-of-type {\n",
       "        vertical-align: middle;\n",
       "    }\n",
       "\n",
       "    .dataframe tbody tr th {\n",
       "        vertical-align: top;\n",
       "    }\n",
       "\n",
       "    .dataframe thead th {\n",
       "        text-align: right;\n",
       "    }\n",
       "</style>\n",
       "<table border=\"1\" class=\"dataframe\">\n",
       "  <thead>\n",
       "    <tr style=\"text-align: right;\">\n",
       "      <th>Id</th>\n",
       "      <th>1</th>\n",
       "      <th>368</th>\n",
       "      <th>88</th>\n",
       "      <th>375</th>\n",
       "      <th>481</th>\n",
       "      <th>484</th>\n",
       "      <th>400</th>\n",
       "      <th>487</th>\n",
       "      <th>380</th>\n",
       "      <th>490</th>\n",
       "      <th>...</th>\n",
       "      <th>448</th>\n",
       "      <th>426</th>\n",
       "      <th>374</th>\n",
       "      <th>37</th>\n",
       "      <th>19</th>\n",
       "      <th>55</th>\n",
       "      <th>73</th>\n",
       "      <th>259</th>\n",
       "      <th>413</th>\n",
       "      <th>462</th>\n",
       "    </tr>\n",
       "    <tr>\n",
       "      <th>Id</th>\n",
       "      <th></th>\n",
       "      <th></th>\n",
       "      <th></th>\n",
       "      <th></th>\n",
       "      <th></th>\n",
       "      <th></th>\n",
       "      <th></th>\n",
       "      <th></th>\n",
       "      <th></th>\n",
       "      <th></th>\n",
       "      <th></th>\n",
       "      <th></th>\n",
       "      <th></th>\n",
       "      <th></th>\n",
       "      <th></th>\n",
       "      <th></th>\n",
       "      <th></th>\n",
       "      <th></th>\n",
       "      <th></th>\n",
       "      <th></th>\n",
       "      <th></th>\n",
       "    </tr>\n",
       "  </thead>\n",
       "  <tbody>\n",
       "    <tr>\n",
       "      <th>1</th>\n",
       "      <td>NaN</td>\n",
       "      <td>NaN</td>\n",
       "      <td>NaN</td>\n",
       "      <td>NaN</td>\n",
       "      <td>NaN</td>\n",
       "      <td>NaN</td>\n",
       "      <td>NaN</td>\n",
       "      <td>NaN</td>\n",
       "      <td>NaN</td>\n",
       "      <td>NaN</td>\n",
       "      <td>...</td>\n",
       "      <td>15.0</td>\n",
       "      <td>15.0</td>\n",
       "      <td>15.0</td>\n",
       "      <td>15.0</td>\n",
       "      <td>15.0</td>\n",
       "      <td>0.0</td>\n",
       "      <td>15.0</td>\n",
       "      <td>15.0</td>\n",
       "      <td>15.0</td>\n",
       "      <td>15.0</td>\n",
       "    </tr>\n",
       "    <tr>\n",
       "      <th>368</th>\n",
       "      <td>NaN</td>\n",
       "      <td>NaN</td>\n",
       "      <td>NaN</td>\n",
       "      <td>NaN</td>\n",
       "      <td>NaN</td>\n",
       "      <td>NaN</td>\n",
       "      <td>NaN</td>\n",
       "      <td>NaN</td>\n",
       "      <td>NaN</td>\n",
       "      <td>NaN</td>\n",
       "      <td>...</td>\n",
       "      <td>15.0</td>\n",
       "      <td>15.0</td>\n",
       "      <td>0.0</td>\n",
       "      <td>0.0</td>\n",
       "      <td>15.0</td>\n",
       "      <td>15.0</td>\n",
       "      <td>0.0</td>\n",
       "      <td>0.0</td>\n",
       "      <td>15.0</td>\n",
       "      <td>15.0</td>\n",
       "    </tr>\n",
       "    <tr>\n",
       "      <th>88</th>\n",
       "      <td>NaN</td>\n",
       "      <td>NaN</td>\n",
       "      <td>NaN</td>\n",
       "      <td>NaN</td>\n",
       "      <td>NaN</td>\n",
       "      <td>NaN</td>\n",
       "      <td>NaN</td>\n",
       "      <td>NaN</td>\n",
       "      <td>NaN</td>\n",
       "      <td>NaN</td>\n",
       "      <td>...</td>\n",
       "      <td>15.0</td>\n",
       "      <td>15.0</td>\n",
       "      <td>15.0</td>\n",
       "      <td>15.0</td>\n",
       "      <td>15.0</td>\n",
       "      <td>15.0</td>\n",
       "      <td>15.0</td>\n",
       "      <td>15.0</td>\n",
       "      <td>0.0</td>\n",
       "      <td>15.0</td>\n",
       "    </tr>\n",
       "    <tr>\n",
       "      <th>375</th>\n",
       "      <td>NaN</td>\n",
       "      <td>NaN</td>\n",
       "      <td>NaN</td>\n",
       "      <td>NaN</td>\n",
       "      <td>NaN</td>\n",
       "      <td>NaN</td>\n",
       "      <td>NaN</td>\n",
       "      <td>NaN</td>\n",
       "      <td>NaN</td>\n",
       "      <td>NaN</td>\n",
       "      <td>...</td>\n",
       "      <td>15.0</td>\n",
       "      <td>15.0</td>\n",
       "      <td>15.0</td>\n",
       "      <td>15.0</td>\n",
       "      <td>15.0</td>\n",
       "      <td>15.0</td>\n",
       "      <td>15.0</td>\n",
       "      <td>15.0</td>\n",
       "      <td>15.0</td>\n",
       "      <td>15.0</td>\n",
       "    </tr>\n",
       "    <tr>\n",
       "      <th>481</th>\n",
       "      <td>NaN</td>\n",
       "      <td>NaN</td>\n",
       "      <td>NaN</td>\n",
       "      <td>NaN</td>\n",
       "      <td>NaN</td>\n",
       "      <td>NaN</td>\n",
       "      <td>NaN</td>\n",
       "      <td>NaN</td>\n",
       "      <td>NaN</td>\n",
       "      <td>NaN</td>\n",
       "      <td>...</td>\n",
       "      <td>15.0</td>\n",
       "      <td>15.0</td>\n",
       "      <td>15.0</td>\n",
       "      <td>15.0</td>\n",
       "      <td>15.0</td>\n",
       "      <td>0.0</td>\n",
       "      <td>15.0</td>\n",
       "      <td>15.0</td>\n",
       "      <td>15.0</td>\n",
       "      <td>15.0</td>\n",
       "    </tr>\n",
       "  </tbody>\n",
       "</table>\n",
       "<p>5 rows × 508 columns</p>\n",
       "</div>"
      ],
      "text/plain": [
       "Id   1    368  88   375  481  484  400  487  380  490  ...   448   426   374  \\\n",
       "Id                                                     ...                     \n",
       "1    NaN  NaN  NaN  NaN  NaN  NaN  NaN  NaN  NaN  NaN  ...  15.0  15.0  15.0   \n",
       "368  NaN  NaN  NaN  NaN  NaN  NaN  NaN  NaN  NaN  NaN  ...  15.0  15.0   0.0   \n",
       "88   NaN  NaN  NaN  NaN  NaN  NaN  NaN  NaN  NaN  NaN  ...  15.0  15.0  15.0   \n",
       "375  NaN  NaN  NaN  NaN  NaN  NaN  NaN  NaN  NaN  NaN  ...  15.0  15.0  15.0   \n",
       "481  NaN  NaN  NaN  NaN  NaN  NaN  NaN  NaN  NaN  NaN  ...  15.0  15.0  15.0   \n",
       "\n",
       "Id    37    19    55    73    259   413   462  \n",
       "Id                                             \n",
       "1    15.0  15.0   0.0  15.0  15.0  15.0  15.0  \n",
       "368   0.0  15.0  15.0   0.0   0.0  15.0  15.0  \n",
       "88   15.0  15.0  15.0  15.0  15.0   0.0  15.0  \n",
       "375  15.0  15.0  15.0  15.0  15.0  15.0  15.0  \n",
       "481  15.0  15.0   0.0  15.0  15.0  15.0  15.0  \n",
       "\n",
       "[5 rows x 508 columns]"
      ]
     },
     "execution_count": 489,
     "metadata": {},
     "output_type": "execute_result"
    }
   ],
   "source": [
    "penalty_matrix.head()"
   ]
  },
  {
   "cell_type": "code",
   "execution_count": 490,
   "metadata": {},
   "outputs": [],
   "source": [
    "def get_trip_candidates(neighbors_matrix, trip, to=True):\n",
    "    # return all the vaild candidates for trip\n",
    "    if to:\n",
    "        return neighbors_matrix.loc[trip][neighbors_matrix.loc[trip] == True].index.tolist()    \n",
    "    return neighbors_matrix.loc[trip][neighbors_matrix[trip] == True].index.tolist()"
   ]
  },
  {
   "cell_type": "code",
   "execution_count": 491,
   "metadata": {},
   "outputs": [],
   "source": [
    "def get_restricted_candidates(vehicle, candidates, to=True):\n",
    "    restricted_candidates = []\n",
    "    for c in candidates:\n",
    "        if to:\n",
    "            tmp_vehicle = vehicle + [c]\n",
    "        else:\n",
    "            tmp_vehicle = [c] + vehicle\n",
    "        if restricted_vehicle(vehicle= tmp_vehicle):\n",
    "            restricted_candidates.append(c)\n",
    "    return restricted_candidates"
   ]
  },
  {
   "cell_type": "code",
   "execution_count": 492,
   "metadata": {},
   "outputs": [],
   "source": [
    "def get_soft_random_vehicle():\n",
    "    \"\"\"\n",
    "    init empty vehicle\n",
    "    while trips not empty:\n",
    "    - pick trip. \n",
    "    - if trip qualified; add trip to vehicle\n",
    "    - else stop and return vehicle\n",
    "    \"\"\"\n",
    "    global trips\n",
    "    \n",
    "    vehicle = []\n",
    "    while trips:\n",
    "        candidate = random.sample(trips, 1)\n",
    "        if not restricted_vehicle(vehicle=vehicle + candidate):\n",
    "            break\n",
    "        vehicle += candidate\n",
    "        trips-= set(candidate)\n",
    "    \n",
    "    return vehicle"
   ]
  },
  {
   "cell_type": "code",
   "execution_count": 493,
   "metadata": {},
   "outputs": [
    {
     "name": "stdout",
     "output_type": "stream",
     "text": [
      "[[467], [295], [124], [155, 196], [296], [275, 307], [256], [414], [335, 470], [388, 116], [320], [169], [115], [17], [343, 148, 228, 474], [70], [149, 197], [252], [66], [393], [89, 293, 16], [132], [198], [372, 310], [442], [98], [379], [371], [92, 10, 282, 328], [2, 278], [336, 270, 173, 308], [445], [506, 126, 117], [58, 290, 473], [421], [42, 53], [171, 472], [125, 229, 447], [161], [487, 424], [429, 30, 71], [360, 475], [312], [361, 15], [111, 118, 73], [269], [500], [188], [303], [430], [84], [128, 329, 426], [219], [241], [22, 160], [168, 143, 34], [503], [381, 410], [250, 114], [423], [281, 462], [104, 110], [120], [205], [94], [27, 240], [234, 130], [239], [31, 412], [407], [8, 217], [245], [305], [341, 9, 185], [202], [191, 468], [416, 164], [409], [345, 140, 327], [449, 225], [56, 352, 127], [276], [175], [18], [301], [243], [227], [492, 208], [485, 390], [348], [207], [166], [262, 48], [224], [460], [50], [204, 444], [211, 479], [14], [151], [370], [382, 247, 297], [283], [162], [246, 12], [339], [181], [411], [121], [403, 51], [113], [37], [489], [399], [440], [218], [284], [484, 302], [464, 448], [289, 142], [3, 213], [350], [313], [428, 369, 85, 19], [147], [326], [366], [463, 237], [112, 163], [323], [90, 65], [508], [80], [95], [451, 324], [25, 206], [233, 172, 154], [45], [406], [378], [488, 364, 63], [356, 396], [255, 457], [201], [504, 437, 325], [249], [61, 458], [150], [377], [24], [493, 452], [353], [43, 438], [7], [491], [502, 28, 257], [340], [376, 453], [68], [318], [232], [107, 236], [178, 238], [304, 52], [145, 13], [330], [466], [177], [322, 230], [505, 139], [186], [363], [47], [135, 420], [385, 332], [189, 77], [26], [274], [455], [49], [263], [184], [482, 83, 374], [131], [497], [190, 461], [287], [214], [387], [395], [97], [170, 215, 141, 67], [439], [317], [359, 203], [258], [33], [41, 398], [333], [44], [337], [384, 72], [300, 425], [152], [413], [358, 478], [427, 87], [273], [20, 108, 165], [39, 311], [54], [347, 5], [93], [501, 23], [394], [4, 373], [200], [391, 309], [408], [138], [351, 338, 216], [342, 226], [59, 153], [344], [315, 441], [81, 106], [495, 480], [383, 220], [494, 443], [496, 261], [286], [157, 251], [483, 397], [144, 222], [254, 248], [183], [82, 389], [199], [221, 454], [182], [434, 355], [459], [417], [195, 306], [259], [446], [253], [285], [129], [167], [123], [55], [60], [6], [405], [158, 316], [46, 32], [419], [268, 321], [314], [57, 279], [136, 331], [401, 35], [357, 469], [456], [159], [134, 299], [79], [21], [40], [498, 105, 244, 36], [122, 235], [231, 319], [146], [272], [471], [499, 64], [354], [75], [156], [69], [101], [433, 78], [38, 133, 193], [477], [11], [422], [436], [415], [137], [260, 99, 418, 176], [450, 298], [74], [375, 62], [88], [291], [486], [1, 288, 280], [432], [194], [481, 179], [386, 109], [100], [265, 174], [476, 435, 119], [465], [365], [292], [402], [103], [212], [242], [264, 86], [102, 96], [209, 277, 392], [346], [192], [91], [29], [334, 266, 76], [180, 294], [349], [507], [490, 267, 404], [368, 187], [431, 210], [380], [367], [400, 223], [362, 271]]\n",
      "\n",
      "opex 12210\n",
      "deadheads 814.0\n",
      "Wall time: 913 ms\n"
     ]
    }
   ],
   "source": [
    "%%time\n",
    "trips = set(trips_df.index)\n",
    "soft_schedule = []\n",
    "while trips:\n",
    "    vehicle = get_soft_random_vehicle()\n",
    "    soft_schedule.append(vehicle)\n",
    "print(soft_schedule)\n",
    "print()\n",
    "print('opex' , get_schedule_opex(soft_schedule))\n",
    "print('deadheads' , get_schedule_opex(soft_schedule) / 15)"
   ]
  },
  {
   "cell_type": "code",
   "execution_count": 494,
   "metadata": {},
   "outputs": [],
   "source": [
    "def get_random_vehicle(neighbors_matrix):\n",
    "    \"\"\"\n",
    "    init empty vehicle \n",
    "    while trips not empty:\n",
    "    - get last trip from vehicle. \n",
    "    - get valid candidates for last trip\n",
    "    - get restricted candidates from valid candidates\n",
    "    - pick random trip and add to vehicle\n",
    "    \"\"\"\n",
    "    global trips\n",
    "\n",
    "    # random.sample returns a list\n",
    "    random_trip = random.sample(trips, 1)\n",
    "    trips-= set(random_trip)\n",
    "    vehicle = random_trip\n",
    "    \n",
    "    while trips:\n",
    "        last_trip = vehicle[-1]\n",
    "        valid_candidates = get_trip_candidates(trip=last_trip, neighbors_matrix=neighbors_matrix)\n",
    "        restricted_candidates = get_restricted_candidates(vehicle=vehicle, candidates=valid_candidates) \n",
    "        \n",
    "        remove_trip(neighbors_matrix=neighbors_matrix, trip=last_trip)\n",
    "        \n",
    "        if not restricted_candidates:\n",
    "            return vehicle\n",
    "        candidate = random.sample(restricted_candidates, 1)\n",
    "        vehicle += candidate\n",
    "        trips-= set(candidate)\n",
    "   \n",
    "    return vehicle"
   ]
  },
  {
   "cell_type": "code",
   "execution_count": 495,
   "metadata": {},
   "outputs": [],
   "source": [
    "def remove_trip(neighbors_matrix, trip):\n",
    "    neighbors_matrix.drop(trip, inplace=True, axis=0)\n",
    "    neighbors_matrix.drop(trip, inplace=True, axis=1) "
   ]
  },
  {
   "cell_type": "code",
   "execution_count": 496,
   "metadata": {
    "scrolled": false
   },
   "outputs": [
    {
     "name": "stdout",
     "output_type": "stream",
     "text": [
      "[[22, 345, 110, 175, 18, 19], [138, 226, 202, 52, 331, 332], [466, 440, 218, 34, 426], [280, 30, 70, 37], [24, 455, 55], [478, 392, 14, 53, 54, 462], [211, 465, 129, 324, 459, 333, 259], [196, 80], [503, 60, 108, 225, 480, 413], [275, 295, 184, 475], [328, 448], [457, 446, 399], [156, 107, 314, 391, 120, 460, 374], [79, 461], [370, 306, 424, 72, 73], [9, 252, 373], [173, 66, 325, 97], [447], [123, 36], [32, 33, 71, 98], [506, 230, 17, 412], [118, 187, 445, 398], [135, 208, 308, 309, 310, 87], [491, 152, 411], [104, 293, 319, 228, 15, 16, 474], [11, 283, 423, 425], [96, 397], [221, 419, 176, 472, 35], [170, 195, 444, 330], [311, 182, 443, 307, 258], [257], [241, 410], [27, 468, 471, 329], [364, 285, 326, 473], [171, 131, 50, 86], [297, 421, 396], [193, 284, 408, 409], [89, 213, 442, 304, 305], [467, 378, 395], [217, 121, 458], [219], [387, 139, 303, 327], [189, 185, 198], [163, 119, 203], [143, 69], [148, 12, 13, 422], [84, 85], [92, 366, 279, 240, 51], [106, 361, 377, 229], [435, 127, 405, 470], [128, 116, 31, 68], [130, 186], [417, 132], [8, 322, 165], [350, 220, 44, 316, 140, 153, 154], [438, 64, 48, 286], [67], [485, 49], [278, 379], [441, 302], [181, 420], [335, 348, 290, 317, 282, 456], [429, 469, 372], [206, 301], [82, 406, 407], [337, 141, 142], [134, 212, 256], [236, 65, 117, 394], [100, 63, 237, 239], [403, 321, 323], [177, 222, 227, 164], [95, 253], [115, 249], [83, 371], [495, 7, 263, 300, 197], [209, 201, 78], [415, 6, 281, 245], [431, 270, 452, 418, 393], [320], [105, 214, 162], [28, 299], [363, 200, 172, 174], [61, 29], [483, 274, 149, 207], [380, 265, 75, 192, 161, 454], [248], [352, 416, 183, 238], [269, 147, 215, 216], [339, 389, 77], [336, 453], [23, 126, 479], [318], [346, 45, 151], [260, 294, 194], [91, 340, 112, 47], [111, 114], [41, 113, 298], [62, 315, 404], [464, 145, 289, 109, 277, 296], [94, 390], [268, 355, 402, 150], [351, 242, 234, 160], [288, 273, 292, 439], [180, 244], [385, 451, 10], [136, 276, 46], [427, 5, 224], [504, 437, 367], [359, 159], [271, 223, 255], [338, 291], [168, 235], [287, 169, 313], [349], [137], [354, 247], [312], [482, 101, 205], [262, 251], [341, 25, 26], [88, 124, 191], [231, 272], [155, 158], [493, 233], [204, 76], [210, 43], [250], [430, 146, 243], [1, 93], [383, 4, 232], [384, 353, 125], [264, 357, 246], [81, 179], [490, 477, 360], [496, 99, 343, 42], [432, 178], [365], [254], [449, 58, 103, 436], [476, 59], [334, 144, 434, 190], [167], [369], [133, 344], [199], [56, 57, 386, 388], [347, 188, 157], [414, 267], [488, 499, 102], [90, 358], [428, 21, 433], [368, 40], [356], [497], [489, 486], [507, 122], [401], [2, 508], [481, 166], [381, 39], [382, 342], [500, 266], [400, 3], [375, 376], [498, 261], [362], [487, 74], [505], [502, 450], [494], [484, 501], [492], [38], [20], [463]]\n",
      "\n",
      "opex 9075\n",
      "deadheads 605.0\n",
      "Wall time: 44.6 s\n"
     ]
    }
   ],
   "source": [
    "%%time\n",
    "trips = set(trips_df.index)\n",
    "random_schedule = []\n",
    "df = neighbors_matrix.copy()\n",
    "while trips:\n",
    "    vehicle = get_random_vehicle(neighbors_matrix=df)\n",
    "    random_schedule.append(vehicle)\n",
    "print(random_schedule)\n",
    "print()\n",
    "print('opex' , get_schedule_opex(random_schedule))\n",
    "print('deadheads' , get_schedule_opex(random_schedule) / 15)"
   ]
  },
  {
   "cell_type": "code",
   "execution_count": 497,
   "metadata": {},
   "outputs": [],
   "source": [
    "def get_best_dead_end(neighbors_matrix, trips):\n",
    "    global trips_df\n",
    "    \n",
    "    dead_end_candidates = neighbors_matrix.loc[ (neighbors_matrix[neighbors_matrix.columns] == False).all(axis=1) ].index.tolist()\n",
    "\n",
    "    k = min (math.ceil(math.sqrt(trips_df.shape[0])), len(dead_end_candidates))\n",
    "    min_deadhead = len(trips)*2*15 + 1\n",
    "    argmin = -1\n",
    "    \n",
    "    for i in range(k):\n",
    "#         print('i', i)\n",
    "        trips = set(trips_df.index)\n",
    "#         print(trips)\n",
    "        candidate = dead_end_candidates[i]\n",
    "#         print('candidate', candidate)\n",
    "        vehicle = get_vehicle(neighbors_matrix=neighbors_matrix.copy(), dead_end_candidate=candidate)\n",
    "#         print('vehicle', vehicle)\n",
    "        deadhead = deadhead_duration(vehicle=vehicle)\n",
    "#         print(deadhead)\n",
    "        if deadhead < min_deadhead:\n",
    "            min_deadhead = deadhead\n",
    "            argmin = i\n",
    "    \n",
    "    trips = set(trips_df.index)\n",
    "#     print(dead_end_candidates)\n",
    "#     print(argmin)\n",
    "    return dead_end_candidates[argmin]"
   ]
  },
  {
   "cell_type": "code",
   "execution_count": 498,
   "metadata": {},
   "outputs": [],
   "source": [
    "def get_vehicle(neighbors_matrix, dead_end_candidate):\n",
    "    global trips\n",
    "    global penalty_matrix\n",
    "\n",
    "    # random.sample returns a list\n",
    "    trips-= set([dead_end_candidate])\n",
    "    vehicle = [dead_end_candidate]\n",
    "    \n",
    "    while trips:\n",
    "        last_trip = vehicle[0]\n",
    "#         print('last_trip', last_trip)\n",
    "        valid_candidates = get_trip_candidates(trip=last_trip, neighbors_matrix=neighbors_matrix, to=False)\n",
    "#         print('valid_candidates', valid_candidates)\n",
    "        restricted_candidates = get_restricted_candidates(vehicle=vehicle, candidates=valid_candidates, to=False) \n",
    "#         print('restricted_candidates', restricted_candidates)\n",
    "        remove_trip(neighbors_matrix=neighbors_matrix, trip=last_trip)\n",
    "#         print(neighbors_matrix)\n",
    "        if not restricted_candidates:\n",
    "            return vehicle\n",
    "        candidate = get_best_pre_trip(trip=last_trip, candidates=restricted_candidates)\n",
    "        vehicle.insert(0,candidate)\n",
    "#         print('vehicle', vehicle)\n",
    "        trips-= set([candidate])\n",
    "   \n",
    "    return vehicle"
   ]
  },
  {
   "cell_type": "code",
   "execution_count": 499,
   "metadata": {},
   "outputs": [],
   "source": [
    "def get_best_pre_trip(trip, candidates):\n",
    "    global trips_df\n",
    "    global penalty_matrix\n",
    "    \n",
    "    deadheads = penalty_matrix.loc[candidates][trip]\n",
    "    min_deadheads_trips = deadheads[deadheads == min(deadheads)].index.tolist()\n",
    "    return trips_df.loc[min_deadheads_trips][DEPARTURE].idxmax()"
   ]
  },
  {
   "cell_type": "code",
   "execution_count": 500,
   "metadata": {},
   "outputs": [],
   "source": [
    "# %%time\n",
    "# trips_df = pd.read_csv(file,index_col=0)\n",
    "# trips_df.sort_values(by=DEPARTURE, inplace=True)\n",
    "# trips_df = trips_df.loc[[1,27,28]]\n",
    "# trips = set(trips_df.index)\n",
    "# trips_df.loc[1, 'Origin'] = 2\n",
    "# trips_df.loc[1, 'Destination'] = 9\n",
    "# trips_df.loc[1, 'Departure'] = 50\n",
    "# trips_df.loc[1, 'Arrival'] = 70\n",
    "\n",
    "# trips_df.loc[27, 'Origin'] = 9\n",
    "# trips_df.loc[27, 'Destination'] = 7\n",
    "# trips_df.loc[27, 'Departure'] = 100\n",
    "# trips_df.loc[27, 'Arrival'] = 200\n",
    "\n",
    "# trips_df.loc[28, 'Origin'] = 1\n",
    "# trips_df.loc[28, 'Destination'] = 10\n",
    "# trips_df.loc[28, 'Departure'] = 220\n",
    "# trips_df.loc[28, 'Arrival'] = 250\n",
    "# trips_df\n"
   ]
  },
  {
   "cell_type": "code",
   "execution_count": 501,
   "metadata": {},
   "outputs": [],
   "source": [
    "# neighbors_matrix, penalty_matrix = get_matrices()\n",
    "# penalty_matrix"
   ]
  },
  {
   "cell_type": "code",
   "execution_count": 502,
   "metadata": {},
   "outputs": [
    {
     "name": "stdout",
     "output_type": "stream",
     "text": [
      "[[320, 321, 322, 323, 324, 325, 326, 327, 328, 329, 80], [380, 301, 302, 303, 304, 305, 306, 307, 308, 309, 310, 87], [117, 118, 119, 120, 33, 34, 330, 331, 98], [334, 469, 470, 471, 472, 473, 474, 475], [319, 66, 67, 68, 69, 70, 71, 374], [114, 115, 116, 217, 218, 219, 35, 332, 333, 37], [30, 31, 203, 86, 72, 73], [317, 131, 132, 79, 36, 259], [129, 202, 208, 258], [406, 407, 408, 409, 410, 411, 412, 413], [487, 393, 394, 395, 396, 397, 398, 399], [442, 443, 444, 445, 446, 447, 448], [420, 421, 422, 423, 424, 425, 426], [13, 14, 15, 16, 17, 18, 19], [49, 50, 51, 52, 53, 54, 55], [300, 456, 457, 458, 459, 460, 461, 462], [109, 110, 111, 112, 215, 130, 32, 97], [315, 64, 216, 257, 373], [437, 311, 312, 313, 27, 28, 65, 245], [105, 106, 107, 108, 127, 128, 29, 78], [436, 62, 63, 84, 249], [104, 212, 213, 248, 85], [434, 26, 214, 95, 96], [263, 252, 253], [370, 256, 372], [148, 149, 150, 151, 152, 153, 154], [137, 138, 139, 140, 141, 142, 143], [159, 160, 161, 162, 163, 164, 165], [272, 273, 274, 275, 276, 277, 278, 279, 280, 281, 282, 283, 284, 285, 286], [170, 171, 172, 173, 174, 175, 176], [181, 182, 183, 184, 185, 186, 187], [192, 193, 194, 195, 196, 197, 198], [125, 126, 201, 207, 121], [224, 225, 226, 227, 228, 229, 230], [235, 236, 237, 238, 239, 240, 241], [102, 60, 61, 255, 371], [290, 478, 377, 378, 379], [432, 23, 24, 76, 244], [100, 123, 124, 243, 77], [338, 339, 340, 465, 466, 467, 468], [344, 345, 346, 389, 390, 391, 392], [353, 354, 355, 402, 403, 404, 405], [365, 366, 367, 438, 439, 440, 441], [359, 360, 361, 416, 417, 418, 419], [385, 386, 387, 388, 287, 288, 291, 292, 293, 294, 295, 296, 297, 298, 299], [42, 43, 44, 45, 46, 47, 48], [6, 7, 8, 9, 10, 11, 12], [93, 94, 451, 452, 453, 454, 455], [427, 428, 429, 430, 209, 210, 25, 206], [502, 57, 58, 59, 211, 251, 318], [381, 476, 477, 479, 480], [400, 503, 504, 204, 205, 316], [21, 22, 246, 83, 113], [490, 491, 199, 200], [507, 122, 82, 247], [347, 369, 254, 314], [56, 508, 250], [449, 415, 262], [20, 348, 349], [494, 495, 133, 134, 135, 136], [498, 499, 144, 145, 146, 147], [496, 497, 155, 156, 157, 158], [500, 501, 166, 167, 168, 169], [488, 489, 264, 265, 266, 267, 268, 269, 270, 289], [463, 464, 188, 189, 190, 191], [505, 506, 177, 178, 179, 180], [484, 485, 486, 231, 232, 233, 234], [481, 482, 483, 220, 221, 222, 223], [88, 89, 90, 91, 92], [260, 261, 435], [1, 74, 75], [401, 242], [382, 383, 384, 271], [341, 342, 343], [335, 336, 337], [350, 351, 352], [356, 357, 358], [362, 363, 364], [414, 433], [38, 39, 40, 41], [2, 3, 4, 5], [81, 103], [450], [375, 376], [368, 431], [493, 101], [492]]\n",
      "\n",
      "opex 2685\n",
      "deadheads 179.0\n",
      "Wall time: 1h 14min 20s\n"
     ]
    }
   ],
   "source": [
    "%%time\n",
    "trips = set(trips_df.index)\n",
    "schedule = []\n",
    "neighbors_matrix, penalty_matrix = get_matrices()\n",
    "df = neighbors_matrix.copy()\n",
    "while trips:\n",
    "    dead_end_trip = get_best_dead_end(neighbors_matrix=df, trips=trips)\n",
    "    vehicle = get_vehicle(neighbors_matrix=df, dead_end_candidate=dead_end_trip)\n",
    "    schedule.append(vehicle)\n",
    "print(schedule)\n",
    "print()\n",
    "print('opex' , get_schedule_opex(schedule))\n",
    "print('deadheads' , get_schedule_opex(schedule) / 15)"
   ]
  },
  {
   "cell_type": "code",
   "execution_count": null,
   "metadata": {},
   "outputs": [],
   "source": []
  },
  {
   "cell_type": "code",
   "execution_count": 503,
   "metadata": {},
   "outputs": [],
   "source": [
    "opex = []\n",
    "schedules = []\n",
    "\n",
    "s = [[i] for i in trips_df.index]\n",
    "\n",
    "for vehicle in schedule:\n",
    "    opex.append(get_schedule_opex(s) / 15)\n",
    "    schedules.append(s)\n",
    "    vehicles.append(len(s))\n",
    "    for trip in vehicle:\n",
    "        s.remove([trip])\n",
    "    s.append(vehicle)\n",
    "  \n",
    "\n",
    "soft_s = [[i] for i in trips_df.index]\n",
    "random_s = [[i] for i in trips_df.index]\n",
    "soft_opex = []\n",
    "soft_vehicles = []\n",
    "random_opex = []\n",
    "random_vehicles = []\n",
    "for vehicle in soft_schedule:\n",
    "    soft_opex.append(get_schedule_opex(soft_s) / 15)\n",
    "    for trip in vehicle:\n",
    "        soft_s.remove([trip])\n",
    "    soft_s.append(vehicle)\n",
    "    \n",
    "for vehicle in random_schedule:\n",
    "    random_opex.append(get_schedule_opex(random_s) / 15)\n",
    "    for trip in vehicle:\n",
    "        random_s.remove([trip])\n",
    "    random_s.append(vehicle)"
   ]
  },
  {
   "cell_type": "code",
   "execution_count": 504,
   "metadata": {},
   "outputs": [
    {
     "data": {
      "image/png": "[encoded data removed]",
      "text/plain": [
       "<Figure size 432x288 with 1 Axes>"
      ]
     },
     "metadata": {
      "needs_background": "light"
     },
     "output_type": "display_data"
    }
   ],
   "source": [
    "plt.plot(random_opex)\n",
    "plt.plot(soft_opex)\n",
    "plt.plot(opex)\n",
    "\n",
    "plt.ylabel('deadheds')\n",
    "plt.show()"
   ]
  },
  {
   "cell_type": "code",
   "execution_count": 506,
   "metadata": {},
   "outputs": [
    {
     "name": "stdout",
     "output_type": "stream",
     "text": [
      "daily_schedule -> True\n",
      "vehicles: 87\n",
      "opex: 2685\n",
      "deadheads: 179.0\n"
     ]
    }
   ],
   "source": [
    "print(f'daily_schedule -> {valid_schedule(schedule)}')\n",
    "# print(daily_schedule)\n",
    "print(f'vehicles: {len(schedule)}')\n",
    "print(f'opex: {get_schedule_opex(schedule)}')\n",
    "print(f'deadheads: {get_schedule_opex(schedule)/15}')"
   ]
  },
  {
   "cell_type": "code",
   "execution_count": 507,
   "metadata": {},
   "outputs": [
    {
     "data": {
      "text/plain": [
       "15"
      ]
     },
     "execution_count": 507,
     "metadata": {},
     "output_type": "execute_result"
    }
   ],
   "source": [
    "l = neighbors_matrix.loc[ (neighbors_matrix[neighbors_matrix.columns] == False).all(axis=1) ].index.tolist()\n",
    "len(l)"
   ]
  },
  {
   "cell_type": "code",
   "execution_count": 508,
   "metadata": {},
   "outputs": [
    {
     "data": {
      "text/plain": [
       "23"
      ]
     },
     "execution_count": 508,
     "metadata": {},
     "output_type": "execute_result"
    }
   ],
   "source": [
    "math.ceil(math.sqrt(trips_df.shape[0]))"
   ]
  },
  {
   "cell_type": "code",
   "execution_count": null,
   "metadata": {},
   "outputs": [],
   "source": []
  }
 ],
 "metadata": {
  "kernelspec": {
   "display_name": "Python 3",
   "language": "python",
   "name": "python3"
  },
  "language_info": {
   "codemirror_mode": {
    "name": "ipython",
    "version": 3
   },
   "file_extension": ".py",
   "mimetype": "text/x-python",
   "name": "python",
   "nbconvert_exporter": "python",
   "pygments_lexer": "ipython3",
   "version": "3.7.4"
  }
 },
 "nbformat": 4,
 "nbformat_minor": 2
}
